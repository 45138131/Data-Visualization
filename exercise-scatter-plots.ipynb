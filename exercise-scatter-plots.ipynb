{
 "cells": [
  {
   "cell_type": "markdown",
   "id": "8a0e3c84",
   "metadata": {
    "papermill": {
     "duration": 0.009751,
     "end_time": "2022-08-28T13:30:40.509589",
     "exception": false,
     "start_time": "2022-08-28T13:30:40.499838",
     "status": "completed"
    },
    "tags": []
   },
   "source": [
    "**This notebook is an exercise in the [Data Visualization](https://www.kaggle.com/learn/data-visualization) course.  You can reference the tutorial at [this link](https://www.kaggle.com/alexisbcook/scatter-plots).**\n",
    "\n",
    "---\n"
   ]
  },
  {
   "cell_type": "markdown",
   "id": "03b94d09",
   "metadata": {
    "papermill": {
     "duration": 0.007668,
     "end_time": "2022-08-28T13:30:40.525349",
     "exception": false,
     "start_time": "2022-08-28T13:30:40.517681",
     "status": "completed"
    },
    "tags": []
   },
   "source": [
    "In this exercise, you will use your new knowledge to propose a solution to a real-world scenario.  To succeed, you will need to import data into Python, answer questions using the data, and generate **scatter plots** to understand patterns in the data.\n",
    "\n",
    "## Scenario\n",
    "\n",
    "You work for a major candy producer, and your goal is to write a report that your company can use to guide the design of its next product.  Soon after starting your research, you stumble across this [very interesting dataset](https://fivethirtyeight.com/features/the-ultimate-halloween-candy-power-ranking/) containing results from a fun survey to crowdsource favorite candies.\n",
    "\n",
    "## Setup\n",
    "\n",
    "Run the next cell to import and configure the Python libraries that you need to complete the exercise."
   ]
  },
  {
   "cell_type": "code",
   "execution_count": 1,
   "id": "c61936fa",
   "metadata": {
    "execution": {
     "iopub.execute_input": "2022-08-28T13:30:40.543632Z",
     "iopub.status.busy": "2022-08-28T13:30:40.543005Z",
     "iopub.status.idle": "2022-08-28T13:30:41.658410Z",
     "shell.execute_reply": "2022-08-28T13:30:41.657535Z"
    },
    "papermill": {
     "duration": 1.127475,
     "end_time": "2022-08-28T13:30:41.660896",
     "exception": false,
     "start_time": "2022-08-28T13:30:40.533421",
     "status": "completed"
    },
    "tags": []
   },
   "outputs": [
    {
     "name": "stdout",
     "output_type": "stream",
     "text": [
      "Setup Complete\n"
     ]
    }
   ],
   "source": [
    "import pandas as pd\n",
    "pd.plotting.register_matplotlib_converters()\n",
    "import matplotlib.pyplot as plt\n",
    "%matplotlib inline\n",
    "import seaborn as sns\n",
    "print(\"Setup Complete\")"
   ]
  },
  {
   "cell_type": "markdown",
   "id": "764f7f65",
   "metadata": {
    "papermill": {
     "duration": 0.007811,
     "end_time": "2022-08-28T13:30:41.677668",
     "exception": false,
     "start_time": "2022-08-28T13:30:41.669857",
     "status": "completed"
    },
    "tags": []
   },
   "source": [
    "The questions below will give you feedback on your work. Run the following cell to set up our feedback system."
   ]
  },
  {
   "cell_type": "code",
   "execution_count": 2,
   "id": "9220913d",
   "metadata": {
    "execution": {
     "iopub.execute_input": "2022-08-28T13:30:41.695748Z",
     "iopub.status.busy": "2022-08-28T13:30:41.694768Z",
     "iopub.status.idle": "2022-08-28T13:30:41.755040Z",
     "shell.execute_reply": "2022-08-28T13:30:41.754121Z"
    },
    "papermill": {
     "duration": 0.071918,
     "end_time": "2022-08-28T13:30:41.757530",
     "exception": false,
     "start_time": "2022-08-28T13:30:41.685612",
     "status": "completed"
    },
    "tags": []
   },
   "outputs": [
    {
     "name": "stdout",
     "output_type": "stream",
     "text": [
      "Setup Complete\n"
     ]
    }
   ],
   "source": [
    "# Set up code checking\n",
    "import os\n",
    "if not os.path.exists(\"../input/candy.csv\"):\n",
    "    os.symlink(\"../input/data-for-datavis/candy.csv\", \"../input/candy.csv\") \n",
    "from learntools.core import binder\n",
    "binder.bind(globals())\n",
    "from learntools.data_viz_to_coder.ex4 import *\n",
    "print(\"Setup Complete\")"
   ]
  },
  {
   "cell_type": "markdown",
   "id": "aff41c23",
   "metadata": {
    "papermill": {
     "duration": 0.00791,
     "end_time": "2022-08-28T13:30:41.774118",
     "exception": false,
     "start_time": "2022-08-28T13:30:41.766208",
     "status": "completed"
    },
    "tags": []
   },
   "source": [
    "## Step 1: Load the Data\n",
    "\n",
    "Read the candy data file into `candy_data`.  Use the `\"id\"` column to label the rows."
   ]
  },
  {
   "cell_type": "code",
   "execution_count": 3,
   "id": "1caccf5f",
   "metadata": {
    "execution": {
     "iopub.execute_input": "2022-08-28T13:30:41.794529Z",
     "iopub.status.busy": "2022-08-28T13:30:41.793658Z",
     "iopub.status.idle": "2022-08-28T13:30:41.808088Z",
     "shell.execute_reply": "2022-08-28T13:30:41.807107Z"
    },
    "papermill": {
     "duration": 0.026181,
     "end_time": "2022-08-28T13:30:41.810318",
     "exception": false,
     "start_time": "2022-08-28T13:30:41.784137",
     "status": "completed"
    },
    "tags": []
   },
   "outputs": [
    {
     "data": {
      "application/javascript": [
       "parent.postMessage({\"jupyterEvent\": \"custom.exercise_interaction\", \"data\": {\"outcomeType\": 1, \"valueTowardsCompletion\": 0.3333333333333333, \"interactionType\": 1, \"questionType\": 1, \"questionId\": \"1_LoadData\", \"learnToolsVersion\": \"0.3.4\", \"failureMessage\": \"\", \"exceptionClass\": \"\", \"trace\": \"\"}}, \"*\")"
      ],
      "text/plain": [
       "<IPython.core.display.Javascript object>"
      ]
     },
     "metadata": {},
     "output_type": "display_data"
    },
    {
     "data": {
      "text/markdown": [
       "<span style=\"color:#33cc33\">Correct</span>"
      ],
      "text/plain": [
       "Correct"
      ]
     },
     "metadata": {},
     "output_type": "display_data"
    }
   ],
   "source": [
    "# Path of the file to read\n",
    "candy_filepath = \"../input/candy.csv\"\n",
    "\n",
    "# Fill in the line below to read the file into a variable candy_data\n",
    "candy_data = pd.read_csv(candy_filepath , index_col=\"id\")\n",
    "\n",
    "# Run the line below with no changes to check that you've loaded the data correctly\n",
    "step_1.check()"
   ]
  },
  {
   "cell_type": "code",
   "execution_count": 4,
   "id": "d08ad478",
   "metadata": {
    "execution": {
     "iopub.execute_input": "2022-08-28T13:30:41.830953Z",
     "iopub.status.busy": "2022-08-28T13:30:41.830200Z",
     "iopub.status.idle": "2022-08-28T13:30:41.835121Z",
     "shell.execute_reply": "2022-08-28T13:30:41.834213Z"
    },
    "papermill": {
     "duration": 0.017258,
     "end_time": "2022-08-28T13:30:41.837505",
     "exception": false,
     "start_time": "2022-08-28T13:30:41.820247",
     "status": "completed"
    },
    "tags": []
   },
   "outputs": [],
   "source": [
    "# Lines below will give you a hint or solution code\n",
    "#step_1.hint()\n",
    "#step_1.solution()"
   ]
  },
  {
   "cell_type": "markdown",
   "id": "5892edb3",
   "metadata": {
    "papermill": {
     "duration": 0.008111,
     "end_time": "2022-08-28T13:30:41.854275",
     "exception": false,
     "start_time": "2022-08-28T13:30:41.846164",
     "status": "completed"
    },
    "tags": []
   },
   "source": [
    "## Step 2: Review the data\n",
    "\n",
    "Use a Python command to print the first five rows of the data."
   ]
  },
  {
   "cell_type": "code",
   "execution_count": 5,
   "id": "df6fa11e",
   "metadata": {
    "execution": {
     "iopub.execute_input": "2022-08-28T13:30:41.873902Z",
     "iopub.status.busy": "2022-08-28T13:30:41.872956Z",
     "iopub.status.idle": "2022-08-28T13:30:41.896342Z",
     "shell.execute_reply": "2022-08-28T13:30:41.895121Z"
    },
    "papermill": {
     "duration": 0.035937,
     "end_time": "2022-08-28T13:30:41.898705",
     "exception": false,
     "start_time": "2022-08-28T13:30:41.862768",
     "status": "completed"
    },
    "tags": []
   },
   "outputs": [
    {
     "data": {
      "text/html": [
       "<div>\n",
       "<style scoped>\n",
       "    .dataframe tbody tr th:only-of-type {\n",
       "        vertical-align: middle;\n",
       "    }\n",
       "\n",
       "    .dataframe tbody tr th {\n",
       "        vertical-align: top;\n",
       "    }\n",
       "\n",
       "    .dataframe thead th {\n",
       "        text-align: right;\n",
       "    }\n",
       "</style>\n",
       "<table border=\"1\" class=\"dataframe\">\n",
       "  <thead>\n",
       "    <tr style=\"text-align: right;\">\n",
       "      <th></th>\n",
       "      <th>competitorname</th>\n",
       "      <th>chocolate</th>\n",
       "      <th>fruity</th>\n",
       "      <th>caramel</th>\n",
       "      <th>peanutyalmondy</th>\n",
       "      <th>nougat</th>\n",
       "      <th>crispedricewafer</th>\n",
       "      <th>hard</th>\n",
       "      <th>bar</th>\n",
       "      <th>pluribus</th>\n",
       "      <th>sugarpercent</th>\n",
       "      <th>pricepercent</th>\n",
       "      <th>winpercent</th>\n",
       "    </tr>\n",
       "    <tr>\n",
       "      <th>id</th>\n",
       "      <th></th>\n",
       "      <th></th>\n",
       "      <th></th>\n",
       "      <th></th>\n",
       "      <th></th>\n",
       "      <th></th>\n",
       "      <th></th>\n",
       "      <th></th>\n",
       "      <th></th>\n",
       "      <th></th>\n",
       "      <th></th>\n",
       "      <th></th>\n",
       "      <th></th>\n",
       "    </tr>\n",
       "  </thead>\n",
       "  <tbody>\n",
       "    <tr>\n",
       "      <th>0</th>\n",
       "      <td>100 Grand</td>\n",
       "      <td>Yes</td>\n",
       "      <td>No</td>\n",
       "      <td>Yes</td>\n",
       "      <td>No</td>\n",
       "      <td>No</td>\n",
       "      <td>Yes</td>\n",
       "      <td>No</td>\n",
       "      <td>Yes</td>\n",
       "      <td>No</td>\n",
       "      <td>0.732</td>\n",
       "      <td>0.860</td>\n",
       "      <td>66.971725</td>\n",
       "    </tr>\n",
       "    <tr>\n",
       "      <th>1</th>\n",
       "      <td>3 Musketeers</td>\n",
       "      <td>Yes</td>\n",
       "      <td>No</td>\n",
       "      <td>No</td>\n",
       "      <td>No</td>\n",
       "      <td>Yes</td>\n",
       "      <td>No</td>\n",
       "      <td>No</td>\n",
       "      <td>Yes</td>\n",
       "      <td>No</td>\n",
       "      <td>0.604</td>\n",
       "      <td>0.511</td>\n",
       "      <td>67.602936</td>\n",
       "    </tr>\n",
       "    <tr>\n",
       "      <th>2</th>\n",
       "      <td>Air Heads</td>\n",
       "      <td>No</td>\n",
       "      <td>Yes</td>\n",
       "      <td>No</td>\n",
       "      <td>No</td>\n",
       "      <td>No</td>\n",
       "      <td>No</td>\n",
       "      <td>No</td>\n",
       "      <td>No</td>\n",
       "      <td>No</td>\n",
       "      <td>0.906</td>\n",
       "      <td>0.511</td>\n",
       "      <td>52.341465</td>\n",
       "    </tr>\n",
       "    <tr>\n",
       "      <th>3</th>\n",
       "      <td>Almond Joy</td>\n",
       "      <td>Yes</td>\n",
       "      <td>No</td>\n",
       "      <td>No</td>\n",
       "      <td>Yes</td>\n",
       "      <td>No</td>\n",
       "      <td>No</td>\n",
       "      <td>No</td>\n",
       "      <td>Yes</td>\n",
       "      <td>No</td>\n",
       "      <td>0.465</td>\n",
       "      <td>0.767</td>\n",
       "      <td>50.347546</td>\n",
       "    </tr>\n",
       "    <tr>\n",
       "      <th>4</th>\n",
       "      <td>Baby Ruth</td>\n",
       "      <td>Yes</td>\n",
       "      <td>No</td>\n",
       "      <td>Yes</td>\n",
       "      <td>Yes</td>\n",
       "      <td>Yes</td>\n",
       "      <td>No</td>\n",
       "      <td>No</td>\n",
       "      <td>Yes</td>\n",
       "      <td>No</td>\n",
       "      <td>0.604</td>\n",
       "      <td>0.767</td>\n",
       "      <td>56.914547</td>\n",
       "    </tr>\n",
       "  </tbody>\n",
       "</table>\n",
       "</div>"
      ],
      "text/plain": [
       "   competitorname chocolate fruity caramel peanutyalmondy nougat  \\\n",
       "id                                                                 \n",
       "0       100 Grand       Yes     No     Yes             No     No   \n",
       "1    3 Musketeers       Yes     No      No             No    Yes   \n",
       "2       Air Heads        No    Yes      No             No     No   \n",
       "3      Almond Joy       Yes     No      No            Yes     No   \n",
       "4       Baby Ruth       Yes     No     Yes            Yes    Yes   \n",
       "\n",
       "   crispedricewafer hard  bar pluribus  sugarpercent  pricepercent  winpercent  \n",
       "id                                                                              \n",
       "0               Yes   No  Yes       No         0.732         0.860   66.971725  \n",
       "1                No   No  Yes       No         0.604         0.511   67.602936  \n",
       "2                No   No   No       No         0.906         0.511   52.341465  \n",
       "3                No   No  Yes       No         0.465         0.767   50.347546  \n",
       "4                No   No  Yes       No         0.604         0.767   56.914547  "
      ]
     },
     "execution_count": 5,
     "metadata": {},
     "output_type": "execute_result"
    }
   ],
   "source": [
    "# Print the first five rows of the data\n",
    "____ # Your code here\n",
    "candy_data.head()"
   ]
  },
  {
   "cell_type": "markdown",
   "id": "05dc1c36",
   "metadata": {
    "papermill": {
     "duration": 0.00801,
     "end_time": "2022-08-28T13:30:41.915338",
     "exception": false,
     "start_time": "2022-08-28T13:30:41.907328",
     "status": "completed"
    },
    "tags": []
   },
   "source": [
    "The dataset contains 83 rows, where each corresponds to a different candy bar.  There are 13 columns:\n",
    "- `'competitorname'` contains the name of the candy bar. \n",
    "- the next **9** columns (from `'chocolate'` to `'pluribus'`) describe the candy.  For instance, rows with chocolate candies have `\"Yes\"` in the `'chocolate'` column (and candies without chocolate have `\"No\"` in the same column).\n",
    "- `'sugarpercent'` provides some indication of the amount of sugar, where higher values signify higher sugar content.\n",
    "- `'pricepercent'` shows the price per unit, relative to the other candies in the dataset.\n",
    "- `'winpercent'` is calculated from the survey results; higher values indicate that the candy was more popular with survey respondents.\n",
    "\n",
    "Use the first five rows of the data to answer the questions below."
   ]
  },
  {
   "cell_type": "code",
   "execution_count": 6,
   "id": "2714d150",
   "metadata": {
    "execution": {
     "iopub.execute_input": "2022-08-28T13:30:41.935340Z",
     "iopub.status.busy": "2022-08-28T13:30:41.934344Z",
     "iopub.status.idle": "2022-08-28T13:30:41.944050Z",
     "shell.execute_reply": "2022-08-28T13:30:41.943087Z"
    },
    "papermill": {
     "duration": 0.022336,
     "end_time": "2022-08-28T13:30:41.946190",
     "exception": false,
     "start_time": "2022-08-28T13:30:41.923854",
     "status": "completed"
    },
    "tags": []
   },
   "outputs": [
    {
     "data": {
      "application/javascript": [
       "parent.postMessage({\"jupyterEvent\": \"custom.exercise_interaction\", \"data\": {\"outcomeType\": 1, \"valueTowardsCompletion\": 0.3333333333333333, \"interactionType\": 1, \"questionType\": 1, \"questionId\": \"2_ReviewData\", \"learnToolsVersion\": \"0.3.4\", \"failureMessage\": \"\", \"exceptionClass\": \"\", \"trace\": \"\"}}, \"*\")"
      ],
      "text/plain": [
       "<IPython.core.display.Javascript object>"
      ]
     },
     "metadata": {},
     "output_type": "display_data"
    },
    {
     "data": {
      "text/markdown": [
       "<span style=\"color:#33cc33\">Correct</span>"
      ],
      "text/plain": [
       "Correct"
      ]
     },
     "metadata": {},
     "output_type": "display_data"
    }
   ],
   "source": [
    "# Fill in the line below: Which candy was more popular with survey respondents:\n",
    "# '3 Musketeers' or 'Almond Joy'?  (Please enclose your answer in single quotes.)\n",
    "\n",
    "more_popular = '3 Musketeers'\n",
    "\n",
    "# Fill in the line below: Which candy has higher sugar content: 'Air Heads'\n",
    "# or 'Baby Ruth'? (Please enclose your answer in single quotes.)\n",
    "more_sugar = 'Air Heads'\n",
    "\n",
    "# Check your answers\n",
    "step_2.check()"
   ]
  },
  {
   "cell_type": "code",
   "execution_count": 7,
   "id": "826b5cfa",
   "metadata": {
    "execution": {
     "iopub.execute_input": "2022-08-28T13:30:41.965396Z",
     "iopub.status.busy": "2022-08-28T13:30:41.964550Z",
     "iopub.status.idle": "2022-08-28T13:30:41.969019Z",
     "shell.execute_reply": "2022-08-28T13:30:41.968337Z"
    },
    "papermill": {
     "duration": 0.016477,
     "end_time": "2022-08-28T13:30:41.971282",
     "exception": false,
     "start_time": "2022-08-28T13:30:41.954805",
     "status": "completed"
    },
    "tags": []
   },
   "outputs": [],
   "source": [
    "# Lines below will give you a hint or solution code\n",
    "#step_2.hint()\n",
    "#step_2.solution()"
   ]
  },
  {
   "cell_type": "markdown",
   "id": "96abc6a6",
   "metadata": {
    "papermill": {
     "duration": 0.008399,
     "end_time": "2022-08-28T13:30:41.988345",
     "exception": false,
     "start_time": "2022-08-28T13:30:41.979946",
     "status": "completed"
    },
    "tags": []
   },
   "source": [
    "## Step 3: The role of sugar\n",
    "\n",
    "Do people tend to prefer candies with higher sugar content?  \n",
    "\n",
    "#### Part A\n",
    "\n",
    "Create a scatter plot that shows the relationship between `'sugarpercent'` (on the horizontal x-axis) and `'winpercent'` (on the vertical y-axis).  _Don't add a regression line just yet -- you'll do that in the next step!_"
   ]
  },
  {
   "cell_type": "code",
   "execution_count": 8,
   "id": "ce5e70ea",
   "metadata": {
    "execution": {
     "iopub.execute_input": "2022-08-28T13:30:42.008657Z",
     "iopub.status.busy": "2022-08-28T13:30:42.007909Z",
     "iopub.status.idle": "2022-08-28T13:30:42.247489Z",
     "shell.execute_reply": "2022-08-28T13:30:42.246378Z"
    },
    "papermill": {
     "duration": 0.252433,
     "end_time": "2022-08-28T13:30:42.249839",
     "exception": false,
     "start_time": "2022-08-28T13:30:41.997406",
     "status": "completed"
    },
    "tags": []
   },
   "outputs": [
    {
     "data": {
      "application/javascript": [
       "parent.postMessage({\"jupyterEvent\": \"custom.exercise_interaction\", \"data\": {\"outcomeType\": 1, \"valueTowardsCompletion\": 0.3333333333333333, \"interactionType\": 1, \"questionType\": 2, \"questionId\": \"3.1_PlotBlueScatter\", \"learnToolsVersion\": \"0.3.4\", \"failureMessage\": \"\", \"exceptionClass\": \"\", \"trace\": \"\"}}, \"*\")"
      ],
      "text/plain": [
       "<IPython.core.display.Javascript object>"
      ]
     },
     "metadata": {},
     "output_type": "display_data"
    },
    {
     "data": {
      "text/markdown": [
       "<span style=\"color:#33cc33\">Correct</span>"
      ],
      "text/plain": [
       "Correct"
      ]
     },
     "metadata": {},
     "output_type": "display_data"
    },
    {
     "data": {
      "image/png": "[encoded data removed]",
      "text/plain": [
       "<Figure size 432x288 with 1 Axes>"
      ]
     },
     "metadata": {
      "needs_background": "light"
     },
     "output_type": "display_data"
    }
   ],
   "source": [
    "# Scatter plot showing the relationship between 'sugarpercent' and 'winpercent'\n",
    "____ # Your code here\n",
    "sns.scatterplot(x=candy_data[\"sugarpercent\"],y = candy_data[\"winpercent\"])\n",
    "\n",
    "# Check your answer\n",
    "step_3.a.check()"
   ]
  },
  {
   "cell_type": "code",
   "execution_count": 9,
   "id": "6001da77",
   "metadata": {
    "execution": {
     "iopub.execute_input": "2022-08-28T13:30:42.271034Z",
     "iopub.status.busy": "2022-08-28T13:30:42.270635Z",
     "iopub.status.idle": "2022-08-28T13:30:42.275102Z",
     "shell.execute_reply": "2022-08-28T13:30:42.273875Z"
    },
    "papermill": {
     "duration": 0.017805,
     "end_time": "2022-08-28T13:30:42.277285",
     "exception": false,
     "start_time": "2022-08-28T13:30:42.259480",
     "status": "completed"
    },
    "tags": []
   },
   "outputs": [],
   "source": [
    "# Lines below will give you a hint or solution code\n",
    "#step_3.a.hint()\n",
    "#step_3.a.solution_plot()"
   ]
  },
  {
   "cell_type": "markdown",
   "id": "1ed39c84",
   "metadata": {
    "papermill": {
     "duration": 0.009229,
     "end_time": "2022-08-28T13:30:42.295808",
     "exception": false,
     "start_time": "2022-08-28T13:30:42.286579",
     "status": "completed"
    },
    "tags": []
   },
   "source": [
    "#### Part B\n",
    "\n",
    "Does the scatter plot show a **strong** correlation between the two variables?  If so, are candies with more sugar relatively more or less popular with the survey respondents?"
   ]
  },
  {
   "cell_type": "code",
   "execution_count": 10,
   "id": "29867155",
   "metadata": {
    "execution": {
     "iopub.execute_input": "2022-08-28T13:30:42.316595Z",
     "iopub.status.busy": "2022-08-28T13:30:42.315863Z",
     "iopub.status.idle": "2022-08-28T13:30:42.320474Z",
     "shell.execute_reply": "2022-08-28T13:30:42.319537Z"
    },
    "papermill": {
     "duration": 0.017335,
     "end_time": "2022-08-28T13:30:42.322651",
     "exception": false,
     "start_time": "2022-08-28T13:30:42.305316",
     "status": "completed"
    },
    "tags": []
   },
   "outputs": [],
   "source": [
    "#step_3.b.hint()\n",
    "#does not play a role in winpercent or popularity "
   ]
  },
  {
   "cell_type": "code",
   "execution_count": 11,
   "id": "8bc83d4a",
   "metadata": {
    "execution": {
     "iopub.execute_input": "2022-08-28T13:30:42.343649Z",
     "iopub.status.busy": "2022-08-28T13:30:42.343170Z",
     "iopub.status.idle": "2022-08-28T13:30:42.350916Z",
     "shell.execute_reply": "2022-08-28T13:30:42.350181Z"
    },
    "papermill": {
     "duration": 0.020819,
     "end_time": "2022-08-28T13:30:42.353074",
     "exception": false,
     "start_time": "2022-08-28T13:30:42.332255",
     "status": "completed"
    },
    "tags": []
   },
   "outputs": [
    {
     "data": {
      "application/javascript": [
       "parent.postMessage({\"jupyterEvent\": \"custom.exercise_interaction\", \"data\": {\"interactionType\": 3, \"questionType\": 4, \"questionId\": \"3.2_ThinkBlueScatter\", \"learnToolsVersion\": \"0.3.4\", \"valueTowardsCompletion\": 0.0, \"failureMessage\": \"\", \"exceptionClass\": \"\", \"trace\": \"\", \"outcomeType\": 4}}, \"*\")"
      ],
      "text/plain": [
       "<IPython.core.display.Javascript object>"
      ]
     },
     "metadata": {},
     "output_type": "display_data"
    },
    {
     "data": {
      "text/markdown": [
       "<span style=\"color:#33cc99\">Solution:</span> The scatter plot does not show a strong correlation between the two variables. Since there is no clear relationship between the two variables, this tells us that sugar content does not play a strong role in candy popularity."
      ],
      "text/plain": [
       "Solution: The scatter plot does not show a strong correlation between the two variables. Since there is no clear relationship between the two variables, this tells us that sugar content does not play a strong role in candy popularity."
      ]
     },
     "metadata": {},
     "output_type": "display_data"
    }
   ],
   "source": [
    "# Check your answer (Run this code cell to receive credit!)\n",
    "step_3.b.solution()"
   ]
  },
  {
   "cell_type": "markdown",
   "id": "8211ceec",
   "metadata": {
    "papermill": {
     "duration": 0.009997,
     "end_time": "2022-08-28T13:30:42.372887",
     "exception": false,
     "start_time": "2022-08-28T13:30:42.362890",
     "status": "completed"
    },
    "tags": []
   },
   "source": [
    "## Step 4: Take a closer look\n",
    "\n",
    "#### Part A\n",
    "\n",
    "Create the same scatter plot you created in **Step 3**, but now with a regression line!"
   ]
  },
  {
   "cell_type": "code",
   "execution_count": 12,
   "id": "e4c4f9e6",
   "metadata": {
    "execution": {
     "iopub.execute_input": "2022-08-28T13:30:42.394911Z",
     "iopub.status.busy": "2022-08-28T13:30:42.394171Z",
     "iopub.status.idle": "2022-08-28T13:30:42.666389Z",
     "shell.execute_reply": "2022-08-28T13:30:42.665161Z"
    },
    "papermill": {
     "duration": 0.286124,
     "end_time": "2022-08-28T13:30:42.668937",
     "exception": false,
     "start_time": "2022-08-28T13:30:42.382813",
     "status": "completed"
    },
    "tags": []
   },
   "outputs": [
    {
     "data": {
      "application/javascript": [
       "parent.postMessage({\"jupyterEvent\": \"custom.exercise_interaction\", \"data\": {\"outcomeType\": 1, \"valueTowardsCompletion\": 0.3333333333333333, \"interactionType\": 1, \"questionType\": 2, \"questionId\": \"4.1_PlotBlueReg\", \"learnToolsVersion\": \"0.3.4\", \"failureMessage\": \"\", \"exceptionClass\": \"\", \"trace\": \"\"}}, \"*\")"
      ],
      "text/plain": [
       "<IPython.core.display.Javascript object>"
      ]
     },
     "metadata": {},
     "output_type": "display_data"
    },
    {
     "data": {
      "text/markdown": [
       "<span style=\"color:#33cc33\">Correct</span>"
      ],
      "text/plain": [
       "Correct"
      ]
     },
     "metadata": {},
     "output_type": "display_data"
    },
    {
     "data": {
      "image/png": "[encoded data removed]",
      "text/plain": [
       "<Figure size 432x288 with 1 Axes>"
      ]
     },
     "metadata": {
      "needs_background": "light"
     },
     "output_type": "display_data"
    }
   ],
   "source": [
    "# Scatter plot w/ regression line showing the relationship between 'sugarpercent' and 'winpercent'\n",
    "____ # Your code here\n",
    "sns.regplot(x=candy_data['sugarpercent'],y = candy_data['winpercent'])\n",
    "\n",
    "# Check your answer\n",
    "step_4.a.check()"
   ]
  },
  {
   "cell_type": "code",
   "execution_count": 13,
   "id": "82ab26ff",
   "metadata": {
    "execution": {
     "iopub.execute_input": "2022-08-28T13:30:42.692198Z",
     "iopub.status.busy": "2022-08-28T13:30:42.691799Z",
     "iopub.status.idle": "2022-08-28T13:30:42.696408Z",
     "shell.execute_reply": "2022-08-28T13:30:42.695182Z"
    },
    "papermill": {
     "duration": 0.01911,
     "end_time": "2022-08-28T13:30:42.698644",
     "exception": false,
     "start_time": "2022-08-28T13:30:42.679534",
     "status": "completed"
    },
    "tags": []
   },
   "outputs": [],
   "source": [
    "# Lines below will give you a hint or solution code\n",
    "#step_4.a.hint()\n",
    "#step_4.a.solution_plot()"
   ]
  },
  {
   "cell_type": "markdown",
   "id": "70248daa",
   "metadata": {
    "papermill": {
     "duration": 0.009804,
     "end_time": "2022-08-28T13:30:42.718733",
     "exception": false,
     "start_time": "2022-08-28T13:30:42.708929",
     "status": "completed"
    },
    "tags": []
   },
   "source": [
    "#### Part B\n",
    "\n",
    "According to the plot above, is there a **slight** correlation between `'winpercent'` and `'sugarpercent'`?  What does this tell you about the candy that people tend to prefer?"
   ]
  },
  {
   "cell_type": "code",
   "execution_count": 14,
   "id": "8cce1ff3",
   "metadata": {
    "execution": {
     "iopub.execute_input": "2022-08-28T13:30:42.742429Z",
     "iopub.status.busy": "2022-08-28T13:30:42.741999Z",
     "iopub.status.idle": "2022-08-28T13:30:42.746361Z",
     "shell.execute_reply": "2022-08-28T13:30:42.745444Z"
    },
    "papermill": {
     "duration": 0.018943,
     "end_time": "2022-08-28T13:30:42.748352",
     "exception": false,
     "start_time": "2022-08-28T13:30:42.729409",
     "status": "completed"
    },
    "tags": []
   },
   "outputs": [],
   "source": [
    "#step_4.b.hint()"
   ]
  },
  {
   "cell_type": "code",
   "execution_count": 15,
   "id": "63e5767e",
   "metadata": {
    "execution": {
     "iopub.execute_input": "2022-08-28T13:30:42.771575Z",
     "iopub.status.busy": "2022-08-28T13:30:42.770948Z",
     "iopub.status.idle": "2022-08-28T13:30:42.777673Z",
     "shell.execute_reply": "2022-08-28T13:30:42.776903Z"
    },
    "papermill": {
     "duration": 0.020644,
     "end_time": "2022-08-28T13:30:42.779788",
     "exception": false,
     "start_time": "2022-08-28T13:30:42.759144",
     "status": "completed"
    },
    "tags": []
   },
   "outputs": [
    {
     "data": {
      "application/javascript": [
       "parent.postMessage({\"jupyterEvent\": \"custom.exercise_interaction\", \"data\": {\"interactionType\": 3, \"questionType\": 4, \"questionId\": \"4.2_ThinkBlueReg\", \"learnToolsVersion\": \"0.3.4\", \"valueTowardsCompletion\": 0.0, \"failureMessage\": \"\", \"exceptionClass\": \"\", \"trace\": \"\", \"outcomeType\": 4}}, \"*\")"
      ],
      "text/plain": [
       "<IPython.core.display.Javascript object>"
      ]
     },
     "metadata": {},
     "output_type": "display_data"
    },
    {
     "data": {
      "text/markdown": [
       "<span style=\"color:#33cc99\">Solution:</span> Since the regression line has a slightly positive slope, this tells us that there is a slightly positive correlation between `'winpercent'` and `'sugarpercent'`. Thus, people have a slight preference for candies containing relatively more sugar."
      ],
      "text/plain": [
       "Solution: Since the regression line has a slightly positive slope, this tells us that there is a slightly positive correlation between `'winpercent'` and `'sugarpercent'`. Thus, people have a slight preference for candies containing relatively more sugar."
      ]
     },
     "metadata": {},
     "output_type": "display_data"
    }
   ],
   "source": [
    "# Check your answer (Run this code cell to receive credit!)\n",
    "step_4.b.solution()"
   ]
  },
  {
   "cell_type": "markdown",
   "id": "e83272d4",
   "metadata": {
    "papermill": {
     "duration": 0.013391,
     "end_time": "2022-08-28T13:30:42.805850",
     "exception": false,
     "start_time": "2022-08-28T13:30:42.792459",
     "status": "completed"
    },
    "tags": []
   },
   "source": [
    "## Step 5: Chocolate!\n",
    "\n",
    "In the code cell below, create a scatter plot to show the relationship between `'pricepercent'` (on the horizontal x-axis) and `'winpercent'` (on the vertical y-axis). Use the `'chocolate'` column to color-code the points.  _Don't add any regression lines just yet -- you'll do that in the next step!_"
   ]
  },
  {
   "cell_type": "code",
   "execution_count": 16,
   "id": "386caaa4",
   "metadata": {
    "execution": {
     "iopub.execute_input": "2022-08-28T13:30:42.830665Z",
     "iopub.status.busy": "2022-08-28T13:30:42.830190Z",
     "iopub.status.idle": "2022-08-28T13:30:43.141479Z",
     "shell.execute_reply": "2022-08-28T13:30:43.140442Z"
    },
    "papermill": {
     "duration": 0.325847,
     "end_time": "2022-08-28T13:30:43.143584",
     "exception": false,
     "start_time": "2022-08-28T13:30:42.817737",
     "status": "completed"
    },
    "tags": []
   },
   "outputs": [
    {
     "data": {
      "application/javascript": [
       "parent.postMessage({\"jupyterEvent\": \"custom.exercise_interaction\", \"data\": {\"outcomeType\": 1, \"valueTowardsCompletion\": 0.3333333333333333, \"interactionType\": 1, \"questionType\": 2, \"questionId\": \"5_ColorScatter\", \"learnToolsVersion\": \"0.3.4\", \"failureMessage\": \"\", \"exceptionClass\": \"\", \"trace\": \"\"}}, \"*\")"
      ],
      "text/plain": [
       "<IPython.core.display.Javascript object>"
      ]
     },
     "metadata": {},
     "output_type": "display_data"
    },
    {
     "data": {
      "text/markdown": [
       "<span style=\"color:#33cc33\">Correct</span>"
      ],
      "text/plain": [
       "Correct"
      ]
     },
     "metadata": {},
     "output_type": "display_data"
    },
    {
     "data": {
      "image/png": "[encoded data removed]",
      "text/plain": [
       "<Figure size 432x288 with 1 Axes>"
      ]
     },
     "metadata": {
      "needs_background": "light"
     },
     "output_type": "display_data"
    }
   ],
   "source": [
    "# Scatter plot showing the relationship between 'pricepercent', 'winpercent', and 'chocolate'\n",
    "____ # Your code here\n",
    "sns.scatterplot(x=candy_data['pricepercent'],y=candy_data['winpercent'],hue=candy_data['chocolate'])\n",
    "\n",
    "# Check your answer\n",
    "step_5.check()"
   ]
  },
  {
   "cell_type": "code",
   "execution_count": 17,
   "id": "b2726a0c",
   "metadata": {
    "execution": {
     "iopub.execute_input": "2022-08-28T13:30:43.168466Z",
     "iopub.status.busy": "2022-08-28T13:30:43.167621Z",
     "iopub.status.idle": "2022-08-28T13:30:43.171893Z",
     "shell.execute_reply": "2022-08-28T13:30:43.171119Z"
    },
    "papermill": {
     "duration": 0.018682,
     "end_time": "2022-08-28T13:30:43.173717",
     "exception": false,
     "start_time": "2022-08-28T13:30:43.155035",
     "status": "completed"
    },
    "tags": []
   },
   "outputs": [],
   "source": [
    "# Lines below will give you a hint or solution code\n",
    "#step_5.hint()\n",
    "#step_5.solution_plot()"
   ]
  },
  {
   "cell_type": "markdown",
   "id": "aa66466c",
   "metadata": {
    "papermill": {
     "duration": 0.010957,
     "end_time": "2022-08-28T13:30:43.195768",
     "exception": false,
     "start_time": "2022-08-28T13:30:43.184811",
     "status": "completed"
    },
    "tags": []
   },
   "source": [
    "Can you see any interesting patterns in the scatter plot?  We'll investigate this plot further  by adding regression lines in the next step!\n",
    "\n",
    "## Step 6: Investigate chocolate\n",
    "\n",
    "#### Part A\n",
    "\n",
    "Create the same scatter plot you created in **Step 5**, but now with two regression lines, corresponding to (1) chocolate candies and (2) candies without chocolate."
   ]
  },
  {
   "cell_type": "code",
   "execution_count": 18,
   "id": "08090f86",
   "metadata": {
    "execution": {
     "iopub.execute_input": "2022-08-28T13:30:43.220853Z",
     "iopub.status.busy": "2022-08-28T13:30:43.219685Z",
     "iopub.status.idle": "2022-08-28T13:30:43.862723Z",
     "shell.execute_reply": "2022-08-28T13:30:43.861944Z"
    },
    "papermill": {
     "duration": 0.657597,
     "end_time": "2022-08-28T13:30:43.864737",
     "exception": false,
     "start_time": "2022-08-28T13:30:43.207140",
     "status": "completed"
    },
    "tags": []
   },
   "outputs": [
    {
     "data": {
      "application/javascript": [
       "parent.postMessage({\"jupyterEvent\": \"custom.exercise_interaction\", \"data\": {\"outcomeType\": 1, \"valueTowardsCompletion\": 0.3333333333333333, \"interactionType\": 1, \"questionType\": 2, \"questionId\": \"6.1_PlotColorReg\", \"learnToolsVersion\": \"0.3.4\", \"failureMessage\": \"\", \"exceptionClass\": \"\", \"trace\": \"\"}}, \"*\")"
      ],
      "text/plain": [
       "<IPython.core.display.Javascript object>"
      ]
     },
     "metadata": {},
     "output_type": "display_data"
    },
    {
     "data": {
      "text/markdown": [
       "<span style=\"color:#33cc33\">Correct</span>"
      ],
      "text/plain": [
       "Correct"
      ]
     },
     "metadata": {},
     "output_type": "display_data"
    },
    {
     "data": {
      "image/png": "[encoded data removed]",
      "text/plain": [
       "<Figure size 416.375x360 with 1 Axes>"
      ]
     },
     "metadata": {
      "needs_background": "light"
     },
     "output_type": "display_data"
    }
   ],
   "source": [
    "# Color-coded scatter plot w/ regression lines\n",
    "____ # Your code here\n",
    "sns.lmplot(x=\"pricepercent\", y=\"winpercent\", hue=\"chocolate\", data=candy_data)\n",
    "\n",
    "# Check your answer\n",
    "step_6.a.check()"
   ]
  },
  {
   "cell_type": "code",
   "execution_count": 19,
   "id": "6dc1ce7f",
   "metadata": {
    "execution": {
     "iopub.execute_input": "2022-08-28T13:30:43.890863Z",
     "iopub.status.busy": "2022-08-28T13:30:43.890153Z",
     "iopub.status.idle": "2022-08-28T13:30:44.522490Z",
     "shell.execute_reply": "2022-08-28T13:30:44.521757Z"
    },
    "papermill": {
     "duration": 0.647596,
     "end_time": "2022-08-28T13:30:44.524550",
     "exception": false,
     "start_time": "2022-08-28T13:30:43.876954",
     "status": "completed"
    },
    "tags": []
   },
   "outputs": [
    {
     "data": {
      "application/javascript": [
       "parent.postMessage({\"jupyterEvent\": \"custom.exercise_interaction\", \"data\": {\"interactionType\": 2, \"questionType\": 2, \"questionId\": \"6.1_PlotColorReg\", \"learnToolsVersion\": \"0.3.4\", \"valueTowardsCompletion\": 0.0, \"failureMessage\": \"\", \"exceptionClass\": \"\", \"trace\": \"\", \"outcomeType\": 4}}, \"*\")"
      ],
      "text/plain": [
       "<IPython.core.display.Javascript object>"
      ]
     },
     "metadata": {},
     "output_type": "display_data"
    },
    {
     "data": {
      "text/markdown": [
       "<span style=\"color:#3366cc\">Hint:</span> Use `sns.lmplot`, and set the variables for the x-axis, y-axis, color of the points, and the dataset by using `x=`, `y=`, `hue=`, and `data=`, respectively."
      ],
      "text/plain": [
       "Hint: Use `sns.lmplot`, and set the variables for the x-axis, y-axis, color of the points, and the dataset by using `x=`, `y=`, `hue=`, and `data=`, respectively."
      ]
     },
     "metadata": {},
     "output_type": "display_data"
    },
    {
     "data": {
      "application/javascript": [
       "parent.postMessage({\"jupyterEvent\": \"custom.exercise_interaction\", \"data\": {\"interactionType\": 3, \"questionType\": 2, \"questionId\": \"6.1_PlotColorReg\", \"learnToolsVersion\": \"0.3.4\", \"valueTowardsCompletion\": 0.0, \"failureMessage\": \"\", \"exceptionClass\": \"\", \"trace\": \"\", \"outcomeType\": 4}}, \"*\")"
      ],
      "text/plain": [
       "<IPython.core.display.Javascript object>"
      ]
     },
     "metadata": {},
     "output_type": "display_data"
    },
    {
     "data": {
      "text/markdown": [
       "<span style=\"color:#33cc99\">Solution:</span> \n",
       "```python\n",
       "# Color-coded scatter plot w/ regression lines\n",
       "sns.lmplot(x=\"pricepercent\", y=\"winpercent\", hue=\"chocolate\", data=candy_data)\n",
       "\n",
       "```"
      ],
      "text/plain": [
       "Solution: \n",
       "```python\n",
       "# Color-coded scatter plot w/ regression lines\n",
       "sns.lmplot(x=\"pricepercent\", y=\"winpercent\", hue=\"chocolate\", data=candy_data)\n",
       "\n",
       "```"
      ]
     },
     "metadata": {},
     "output_type": "display_data"
    },
    {
     "data": {
      "image/png": "[encoded data removed]",
      "text/plain": [
       "<Figure size 416.375x360 with 1 Axes>"
      ]
     },
     "metadata": {
      "needs_background": "light"
     },
     "output_type": "display_data"
    }
   ],
   "source": [
    "# Lines below will give you a hint or solution code\n",
    "step_6.a.hint()\n",
    "step_6.a.solution_plot()"
   ]
  },
  {
   "cell_type": "markdown",
   "id": "81457bfa",
   "metadata": {
    "papermill": {
     "duration": 0.013289,
     "end_time": "2022-08-28T13:30:44.551555",
     "exception": false,
     "start_time": "2022-08-28T13:30:44.538266",
     "status": "completed"
    },
    "tags": []
   },
   "source": [
    "#### Part B\n",
    "\n",
    "Using the regression lines, what conclusions can you draw about the effects of chocolate and price on candy popularity?"
   ]
  },
  {
   "cell_type": "code",
   "execution_count": 20,
   "id": "111212ba",
   "metadata": {
    "execution": {
     "iopub.execute_input": "2022-08-28T13:30:44.581760Z",
     "iopub.status.busy": "2022-08-28T13:30:44.581071Z",
     "iopub.status.idle": "2022-08-28T13:30:44.587115Z",
     "shell.execute_reply": "2022-08-28T13:30:44.586164Z"
    },
    "papermill": {
     "duration": 0.024473,
     "end_time": "2022-08-28T13:30:44.589297",
     "exception": false,
     "start_time": "2022-08-28T13:30:44.564824",
     "status": "completed"
    },
    "tags": []
   },
   "outputs": [],
   "source": [
    "#step_6.b.hint()"
   ]
  },
  {
   "cell_type": "code",
   "execution_count": 21,
   "id": "47e252f5",
   "metadata": {
    "execution": {
     "iopub.execute_input": "2022-08-28T13:30:44.617146Z",
     "iopub.status.busy": "2022-08-28T13:30:44.616423Z",
     "iopub.status.idle": "2022-08-28T13:30:44.625886Z",
     "shell.execute_reply": "2022-08-28T13:30:44.625092Z"
    },
    "papermill": {
     "duration": 0.025747,
     "end_time": "2022-08-28T13:30:44.628045",
     "exception": false,
     "start_time": "2022-08-28T13:30:44.602298",
     "status": "completed"
    },
    "tags": []
   },
   "outputs": [
    {
     "data": {
      "application/javascript": [
       "parent.postMessage({\"jupyterEvent\": \"custom.exercise_interaction\", \"data\": {\"interactionType\": 3, \"questionType\": 4, \"questionId\": \"6.2_ThinkColorReg\", \"learnToolsVersion\": \"0.3.4\", \"valueTowardsCompletion\": 0.0, \"failureMessage\": \"\", \"exceptionClass\": \"\", \"trace\": \"\", \"outcomeType\": 4}}, \"*\")"
      ],
      "text/plain": [
       "<IPython.core.display.Javascript object>"
      ]
     },
     "metadata": {},
     "output_type": "display_data"
    },
    {
     "data": {
      "text/markdown": [
       "<span style=\"color:#33cc99\">Solution:</span> We'll begin with the regression line for chocolate candies. Since this line has a slightly positive slope, we can say that more expensive chocolate candies tend to be more popular (than relatively cheaper chocolate candies).  Likewise, since the regression line for candies without chocolate has a negative slope, we can say that if candies don't contain chocolate, they tend to be more popular when they are cheaper.  One important note, however, is that the dataset is quite small -- so we shouldn't invest too much trust in these patterns!  To inspire more confidence in the results, we should add more candies to the dataset."
      ],
      "text/plain": [
       "Solution: We'll begin with the regression line for chocolate candies. Since this line has a slightly positive slope, we can say that more expensive chocolate candies tend to be more popular (than relatively cheaper chocolate candies).  Likewise, since the regression line for candies without chocolate has a negative slope, we can say that if candies don't contain chocolate, they tend to be more popular when they are cheaper.  One important note, however, is that the dataset is quite small -- so we shouldn't invest too much trust in these patterns!  To inspire more confidence in the results, we should add more candies to the dataset."
      ]
     },
     "metadata": {},
     "output_type": "display_data"
    }
   ],
   "source": [
    "# Check your answer (Run this code cell to receive credit!)\n",
    "step_6.b.solution()"
   ]
  },
  {
   "cell_type": "markdown",
   "id": "8240ee62",
   "metadata": {
    "papermill": {
     "duration": 0.012759,
     "end_time": "2022-08-28T13:30:44.654189",
     "exception": false,
     "start_time": "2022-08-28T13:30:44.641430",
     "status": "completed"
    },
    "tags": []
   },
   "source": [
    "## Step 7: Everybody loves chocolate.\n",
    "\n",
    "#### Part A\n",
    "\n",
    "Create a categorical scatter plot to highlight the relationship between `'chocolate'` and `'winpercent'`.  Put `'chocolate'` on the (horizontal) x-axis, and `'winpercent'` on the (vertical) y-axis."
   ]
  },
  {
   "cell_type": "code",
   "execution_count": 22,
   "id": "f6292ebb",
   "metadata": {
    "execution": {
     "iopub.execute_input": "2022-08-28T13:30:44.682094Z",
     "iopub.status.busy": "2022-08-28T13:30:44.681348Z",
     "iopub.status.idle": "2022-08-28T13:30:44.837910Z",
     "shell.execute_reply": "2022-08-28T13:30:44.836753Z"
    },
    "papermill": {
     "duration": 0.173709,
     "end_time": "2022-08-28T13:30:44.840811",
     "exception": false,
     "start_time": "2022-08-28T13:30:44.667102",
     "status": "completed"
    },
    "tags": []
   },
   "outputs": [
    {
     "data": {
      "application/javascript": [
       "parent.postMessage({\"jupyterEvent\": \"custom.exercise_interaction\", \"data\": {\"outcomeType\": 1, \"valueTowardsCompletion\": 0.3333333333333333, \"interactionType\": 1, \"questionType\": 2, \"questionId\": \"7.1_PlotSwarm\", \"learnToolsVersion\": \"0.3.4\", \"failureMessage\": \"\", \"exceptionClass\": \"\", \"trace\": \"\"}}, \"*\")"
      ],
      "text/plain": [
       "<IPython.core.display.Javascript object>"
      ]
     },
     "metadata": {},
     "output_type": "display_data"
    },
    {
     "data": {
      "text/markdown": [
       "<span style=\"color:#33cc33\">Correct</span>"
      ],
      "text/plain": [
       "Correct"
      ]
     },
     "metadata": {},
     "output_type": "display_data"
    },
    {
     "data": {
      "image/png": "[encoded data removed]",
      "text/plain": [
       "<Figure size 432x288 with 1 Axes>"
      ]
     },
     "metadata": {
      "needs_background": "light"
     },
     "output_type": "display_data"
    }
   ],
   "source": [
    "# Scatter plot showing the relationship between 'chocolate' and 'winpercent'\n",
    "____ # Your code here\n",
    "sns.swarmplot(x=candy_data['chocolate'], y=candy_data['winpercent'])\n",
    "\n",
    "# Check your answer\n",
    "step_7.a.check()"
   ]
  },
  {
   "cell_type": "code",
   "execution_count": 23,
   "id": "de0d1038",
   "metadata": {
    "execution": {
     "iopub.execute_input": "2022-08-28T13:30:44.870963Z",
     "iopub.status.busy": "2022-08-28T13:30:44.870248Z",
     "iopub.status.idle": "2022-08-28T13:30:44.875708Z",
     "shell.execute_reply": "2022-08-28T13:30:44.874592Z"
    },
    "papermill": {
     "duration": 0.023132,
     "end_time": "2022-08-28T13:30:44.877986",
     "exception": false,
     "start_time": "2022-08-28T13:30:44.854854",
     "status": "completed"
    },
    "tags": []
   },
   "outputs": [],
   "source": [
    "# Lines below will give you a hint or solution code\n",
    "#step_7.a.hint()\n",
    "#step_7.a.solution_plot()"
   ]
  },
  {
   "cell_type": "markdown",
   "id": "1a7a85ad",
   "metadata": {
    "papermill": {
     "duration": 0.013273,
     "end_time": "2022-08-28T13:30:44.905533",
     "exception": false,
     "start_time": "2022-08-28T13:30:44.892260",
     "status": "completed"
    },
    "tags": []
   },
   "source": [
    "#### Part B\n",
    "\n",
    "You decide to dedicate a section of your report to the fact that chocolate candies tend to be more popular than candies without chocolate.  Which plot is more appropriate to tell this story: the plot from **Step 6**, or the plot from **Step 7**?"
   ]
  },
  {
   "cell_type": "code",
   "execution_count": 24,
   "id": "035b771b",
   "metadata": {
    "execution": {
     "iopub.execute_input": "2022-08-28T13:30:44.934862Z",
     "iopub.status.busy": "2022-08-28T13:30:44.933993Z",
     "iopub.status.idle": "2022-08-28T13:30:44.938911Z",
     "shell.execute_reply": "2022-08-28T13:30:44.938126Z"
    },
    "papermill": {
     "duration": 0.022176,
     "end_time": "2022-08-28T13:30:44.941113",
     "exception": false,
     "start_time": "2022-08-28T13:30:44.918937",
     "status": "completed"
    },
    "tags": []
   },
   "outputs": [],
   "source": [
    "#step_7.b.hint()"
   ]
  },
  {
   "cell_type": "code",
   "execution_count": 25,
   "id": "b6e845cd",
   "metadata": {
    "execution": {
     "iopub.execute_input": "2022-08-28T13:30:44.970651Z",
     "iopub.status.busy": "2022-08-28T13:30:44.969907Z",
     "iopub.status.idle": "2022-08-28T13:30:44.978736Z",
     "shell.execute_reply": "2022-08-28T13:30:44.977926Z"
    },
    "papermill": {
     "duration": 0.026027,
     "end_time": "2022-08-28T13:30:44.980861",
     "exception": false,
     "start_time": "2022-08-28T13:30:44.954834",
     "status": "completed"
    },
    "tags": []
   },
   "outputs": [
    {
     "data": {
      "application/javascript": [
       "parent.postMessage({\"jupyterEvent\": \"custom.exercise_interaction\", \"data\": {\"interactionType\": 3, \"questionType\": 4, \"questionId\": \"7.2_ThinkSwarm\", \"learnToolsVersion\": \"0.3.4\", \"valueTowardsCompletion\": 0.0, \"failureMessage\": \"\", \"exceptionClass\": \"\", \"trace\": \"\", \"outcomeType\": 4}}, \"*\")"
      ],
      "text/plain": [
       "<IPython.core.display.Javascript object>"
      ]
     },
     "metadata": {},
     "output_type": "display_data"
    },
    {
     "data": {
      "text/markdown": [
       "<span style=\"color:#33cc99\">Solution:</span> In this case, the categorical scatter plot from **Step 7** is the more appropriate plot. While both plots tell the desired story, the plot from **Step 6** conveys far more information that could distract from the main point."
      ],
      "text/plain": [
       "Solution: In this case, the categorical scatter plot from **Step 7** is the more appropriate plot. While both plots tell the desired story, the plot from **Step 6** conveys far more information that could distract from the main point."
      ]
     },
     "metadata": {},
     "output_type": "display_data"
    }
   ],
   "source": [
    "# Check your answer (Run this code cell to receive credit!)\n",
    "step_7.b.solution()"
   ]
  },
  {
   "cell_type": "markdown",
   "id": "2be26a07",
   "metadata": {
    "papermill": {
     "duration": 0.013468,
     "end_time": "2022-08-28T13:30:45.008087",
     "exception": false,
     "start_time": "2022-08-28T13:30:44.994619",
     "status": "completed"
    },
    "tags": []
   },
   "source": [
    "## Keep going\n",
    "\n",
    "Explore **[histograms and density plots](https://www.kaggle.com/alexisbcook/distributions)**."
   ]
  },
  {
   "cell_type": "markdown",
   "id": "79f785ac",
   "metadata": {
    "papermill": {
     "duration": 0.013202,
     "end_time": "2022-08-28T13:30:45.035708",
     "exception": false,
     "start_time": "2022-08-28T13:30:45.022506",
     "status": "completed"
    },
    "tags": []
   },
   "source": [
    "---\n",
    "\n",
    "\n",
    "\n",
    "\n",
    "*Have questions or comments? Visit the [course discussion forum](https://www.kaggle.com/learn/data-visualization/discussion) to chat with other learners.*"
   ]
  }
 ],
 "metadata": {
  "kernelspec": {
   "display_name": "Python 3",
   "language": "python",
   "name": "python3"
  },
  "language_info": {
   "codemirror_mode": {
    "name": "ipython",
    "version": 3
   },
   "file_extension": ".py",
   "mimetype": "text/x-python",
   "name": "python",
   "nbconvert_exporter": "python",
   "pygments_lexer": "ipython3",
   "version": "3.7.12"
  },
  "papermill": {
   "default_parameters": {},
   "duration": 13.842749,
   "end_time": "2022-08-28T13:30:45.772642",
   "environment_variables": {},
   "exception": null,
   "input_path": "__notebook__.ipynb",
   "output_path": "__notebook__.ipynb",
   "parameters": {},
   "start_time": "2022-08-28T13:30:31.929893",
   "version": "2.3.4"
  }
 },
 "nbformat": 4,
 "nbformat_minor": 5
}
