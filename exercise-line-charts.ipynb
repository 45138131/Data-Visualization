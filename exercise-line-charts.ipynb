{
 "cells": [
  {
   "cell_type": "markdown",
   "id": "475316c6",
   "metadata": {
    "papermill": {
     "duration": 0.007766,
     "end_time": "2022-08-28T13:29:26.200260",
     "exception": false,
     "start_time": "2022-08-28T13:29:26.192494",
     "status": "completed"
    },
    "tags": []
   },
   "source": [
    "**This notebook is an exercise in the [Data Visualization](https://www.kaggle.com/learn/data-visualization) course.  You can reference the tutorial at [this link](https://www.kaggle.com/alexisbcook/line-charts).**\n",
    "\n",
    "---\n"
   ]
  },
  {
   "cell_type": "markdown",
   "id": "a0d627bc",
   "metadata": {
    "papermill": {
     "duration": 0.004957,
     "end_time": "2022-08-28T13:29:26.211075",
     "exception": false,
     "start_time": "2022-08-28T13:29:26.206118",
     "status": "completed"
    },
    "tags": []
   },
   "source": [
    "In this exercise, you will use your new knowledge to propose a solution to a real-world scenario. To succeed, you will need to import data into Python, answer questions using the data, and generate **line charts** to understand patterns in the data.\n",
    "\n",
    "## Scenario\n",
    "\n",
    "You have recently been hired to manage the museums in the City of Los Angeles. Your first project focuses on the four museums pictured in the images below.\n",
    "\n",
    "![ex1_museums](https://i.imgur.com/pFYL8J1.png)\n",
    "\n",
    "You will leverage data from the Los Angeles [Data Portal](https://data.lacity.org/) that tracks monthly visitors to each museum.  \n",
    "\n",
    "![ex1_xlsx](https://i.imgur.com/mGWYlym.png)\n",
    "\n",
    "## Setup\n",
    "\n",
    "Run the next cell to import and configure the Python libraries that you need to complete the exercise."
   ]
  },
  {
   "cell_type": "code",
   "execution_count": 1,
   "id": "5aaa8d55",
   "metadata": {
    "execution": {
     "iopub.execute_input": "2022-08-28T13:29:26.223880Z",
     "iopub.status.busy": "2022-08-28T13:29:26.223134Z",
     "iopub.status.idle": "2022-08-28T13:29:27.424570Z",
     "shell.execute_reply": "2022-08-28T13:29:27.423221Z"
    },
    "papermill": {
     "duration": 1.211734,
     "end_time": "2022-08-28T13:29:27.428118",
     "exception": false,
     "start_time": "2022-08-28T13:29:26.216384",
     "status": "completed"
    },
    "tags": []
   },
   "outputs": [
    {
     "name": "stdout",
     "output_type": "stream",
     "text": [
      "Setup Complete\n"
     ]
    }
   ],
   "source": [
    "import pandas as pd\n",
    "pd.plotting.register_matplotlib_converters()\n",
    "import matplotlib.pyplot as plt\n",
    "%matplotlib inline\n",
    "import seaborn as sns\n",
    "print(\"Setup Complete\")"
   ]
  },
  {
   "cell_type": "markdown",
   "id": "3b6a7e1e",
   "metadata": {
    "papermill": {
     "duration": 0.005122,
     "end_time": "2022-08-28T13:29:27.439481",
     "exception": false,
     "start_time": "2022-08-28T13:29:27.434359",
     "status": "completed"
    },
    "tags": []
   },
   "source": [
    "The questions below will give you feedback on your work. Run the following cell to set up the feedback system."
   ]
  },
  {
   "cell_type": "code",
   "execution_count": 2,
   "id": "c7c8bda6",
   "metadata": {
    "execution": {
     "iopub.execute_input": "2022-08-28T13:29:27.452651Z",
     "iopub.status.busy": "2022-08-28T13:29:27.451572Z",
     "iopub.status.idle": "2022-08-28T13:29:27.527289Z",
     "shell.execute_reply": "2022-08-28T13:29:27.525972Z"
    },
    "papermill": {
     "duration": 0.085743,
     "end_time": "2022-08-28T13:29:27.530622",
     "exception": false,
     "start_time": "2022-08-28T13:29:27.444879",
     "status": "completed"
    },
    "tags": []
   },
   "outputs": [
    {
     "name": "stdout",
     "output_type": "stream",
     "text": [
      "Setup Complete\n"
     ]
    }
   ],
   "source": [
    "# Set up code checking\n",
    "import os\n",
    "if not os.path.exists(\"../input/museum_visitors.csv\"):\n",
    "    os.symlink(\"../input/data-for-datavis/museum_visitors.csv\", \"../input/museum_visitors.csv\") \n",
    "from learntools.core import binder\n",
    "binder.bind(globals())\n",
    "from learntools.data_viz_to_coder.ex2 import *\n",
    "print(\"Setup Complete\")"
   ]
  },
  {
   "cell_type": "markdown",
   "id": "47dffc33",
   "metadata": {
    "papermill": {
     "duration": 0.00686,
     "end_time": "2022-08-28T13:29:27.545049",
     "exception": false,
     "start_time": "2022-08-28T13:29:27.538189",
     "status": "completed"
    },
    "tags": []
   },
   "source": [
    "## Step 1: Load the data\n",
    "\n",
    "Your first assignment is to read the LA Museum Visitors data file into `museum_data`.  Note that:\n",
    "- The filepath to the dataset is stored as `museum_filepath`.  Please **do not** change the provided value of the filepath.\n",
    "- The name of the column to use as row labels is `\"Date\"`.  (This can be seen in cell A1 when the file is opened in Excel.)\n",
    "\n",
    "To help with this, you may find it useful to revisit some relevant code from the tutorial, which we have pasted below:\n",
    "\n",
    "```python\n",
    "# Path of the file to read\n",
    "spotify_filepath = \"../input/spotify.csv\"\n",
    "\n",
    "# Read the file into a variable spotify_data\n",
    "spotify_data = pd.read_csv(spotify_filepath, index_col=\"Date\", parse_dates=True)\n",
    "```\n",
    "\n",
    "The code you need to write now looks very similar!"
   ]
  },
  {
   "cell_type": "code",
   "execution_count": 3,
   "id": "64eb23d5",
   "metadata": {
    "execution": {
     "iopub.execute_input": "2022-08-28T13:29:27.561657Z",
     "iopub.status.busy": "2022-08-28T13:29:27.560803Z",
     "iopub.status.idle": "2022-08-28T13:29:27.582699Z",
     "shell.execute_reply": "2022-08-28T13:29:27.581521Z"
    },
    "papermill": {
     "duration": 0.033049,
     "end_time": "2022-08-28T13:29:27.585173",
     "exception": false,
     "start_time": "2022-08-28T13:29:27.552124",
     "status": "completed"
    },
    "tags": []
   },
   "outputs": [
    {
     "data": {
      "application/javascript": [
       "parent.postMessage({\"jupyterEvent\": \"custom.exercise_interaction\", \"data\": {\"outcomeType\": 1, \"valueTowardsCompletion\": 0.3333333333333333, \"interactionType\": 1, \"questionType\": 1, \"questionId\": \"1_LoadMuseumData\", \"learnToolsVersion\": \"0.3.4\", \"failureMessage\": \"\", \"exceptionClass\": \"\", \"trace\": \"\"}}, \"*\")"
      ],
      "text/plain": [
       "<IPython.core.display.Javascript object>"
      ]
     },
     "metadata": {},
     "output_type": "display_data"
    },
    {
     "data": {
      "text/markdown": [
       "<span style=\"color:#33cc33\">Correct</span>"
      ],
      "text/plain": [
       "Correct"
      ]
     },
     "metadata": {},
     "output_type": "display_data"
    }
   ],
   "source": [
    "# Path of the file to read\n",
    "museum_filepath = \"../input/museum_visitors.csv\"\n",
    "\n",
    "# Fill in the line below to read the file into a variable museum_data\n",
    "museum_data = pd.read_csv(museum_filepath, index_col=\"Date\", parse_dates=True)\n",
    "\n",
    "# Run the line below with no changes to check that you've loaded the data correctly\n",
    "step_1.check()"
   ]
  },
  {
   "cell_type": "code",
   "execution_count": 4,
   "id": "5741accc",
   "metadata": {
    "execution": {
     "iopub.execute_input": "2022-08-28T13:29:27.599925Z",
     "iopub.status.busy": "2022-08-28T13:29:27.598501Z",
     "iopub.status.idle": "2022-08-28T13:29:27.613190Z",
     "shell.execute_reply": "2022-08-28T13:29:27.612294Z"
    },
    "papermill": {
     "duration": 0.024268,
     "end_time": "2022-08-28T13:29:27.615421",
     "exception": false,
     "start_time": "2022-08-28T13:29:27.591153",
     "status": "completed"
    },
    "tags": []
   },
   "outputs": [
    {
     "data": {
      "application/javascript": [
       "parent.postMessage({\"jupyterEvent\": \"custom.exercise_interaction\", \"data\": {\"interactionType\": 2, \"questionType\": 1, \"questionId\": \"1_LoadMuseumData\", \"learnToolsVersion\": \"0.3.4\", \"valueTowardsCompletion\": 0.0, \"failureMessage\": \"\", \"exceptionClass\": \"\", \"trace\": \"\", \"outcomeType\": 4}}, \"*\")"
      ],
      "text/plain": [
       "<IPython.core.display.Javascript object>"
      ]
     },
     "metadata": {},
     "output_type": "display_data"
    },
    {
     "data": {
      "text/markdown": [
       "<span style=\"color:#3366cc\">Hint:</span> Use `pd.read_csv`, and follow it with **three** pieces of text that are enclosed in parentheses and separated by commas.  (1) The filepath for the dataset is provided in `museum_filepath`.  (2) Use the `\"Date\"` column to label the rows. (3) Make sure that the row labels are recognized as dates."
      ],
      "text/plain": [
       "Hint: Use `pd.read_csv`, and follow it with **three** pieces of text that are enclosed in parentheses and separated by commas.  (1) The filepath for the dataset is provided in `museum_filepath`.  (2) Use the `\"Date\"` column to label the rows. (3) Make sure that the row labels are recognized as dates."
      ]
     },
     "metadata": {},
     "output_type": "display_data"
    },
    {
     "data": {
      "application/javascript": [
       "parent.postMessage({\"jupyterEvent\": \"custom.exercise_interaction\", \"data\": {\"interactionType\": 3, \"questionType\": 1, \"questionId\": \"1_LoadMuseumData\", \"learnToolsVersion\": \"0.3.4\", \"valueTowardsCompletion\": 0.0, \"failureMessage\": \"\", \"exceptionClass\": \"\", \"trace\": \"\", \"outcomeType\": 4}}, \"*\")"
      ],
      "text/plain": [
       "<IPython.core.display.Javascript object>"
      ]
     },
     "metadata": {},
     "output_type": "display_data"
    },
    {
     "data": {
      "text/markdown": [
       "<span style=\"color:#33cc99\">Solution:</span> \n",
       "```python\n",
       "museum_data = pd.read_csv(museum_filepath, index_col=\"Date\", parse_dates=True)\n",
       "```"
      ],
      "text/plain": [
       "Solution: \n",
       "```python\n",
       "museum_data = pd.read_csv(museum_filepath, index_col=\"Date\", parse_dates=True)\n",
       "```"
      ]
     },
     "metadata": {},
     "output_type": "display_data"
    }
   ],
   "source": [
    "# Uncomment the line below to receive a hint\n",
    "step_1.hint()\n",
    "# Uncomment the line below to see the solution\n",
    "step_1.solution()"
   ]
  },
  {
   "cell_type": "markdown",
   "id": "34068888",
   "metadata": {
    "papermill": {
     "duration": 0.0062,
     "end_time": "2022-08-28T13:29:27.628238",
     "exception": false,
     "start_time": "2022-08-28T13:29:27.622038",
     "status": "completed"
    },
    "tags": []
   },
   "source": [
    "## Step 2: Review the data\n",
    "\n",
    "Use a Python command to print the last 5 rows of the data."
   ]
  },
  {
   "cell_type": "code",
   "execution_count": 5,
   "id": "402d2d07",
   "metadata": {
    "execution": {
     "iopub.execute_input": "2022-08-28T13:29:27.643466Z",
     "iopub.status.busy": "2022-08-28T13:29:27.642442Z",
     "iopub.status.idle": "2022-08-28T13:29:27.657163Z",
     "shell.execute_reply": "2022-08-28T13:29:27.655868Z"
    },
    "papermill": {
     "duration": 0.025043,
     "end_time": "2022-08-28T13:29:27.659763",
     "exception": false,
     "start_time": "2022-08-28T13:29:27.634720",
     "status": "completed"
    },
    "tags": []
   },
   "outputs": [
    {
     "data": {
      "text/html": [
       "<div>\n",
       "<style scoped>\n",
       "    .dataframe tbody tr th:only-of-type {\n",
       "        vertical-align: middle;\n",
       "    }\n",
       "\n",
       "    .dataframe tbody tr th {\n",
       "        vertical-align: top;\n",
       "    }\n",
       "\n",
       "    .dataframe thead th {\n",
       "        text-align: right;\n",
       "    }\n",
       "</style>\n",
       "<table border=\"1\" class=\"dataframe\">\n",
       "  <thead>\n",
       "    <tr style=\"text-align: right;\">\n",
       "      <th></th>\n",
       "      <th>Avila Adobe</th>\n",
       "      <th>Firehouse Museum</th>\n",
       "      <th>Chinese American Museum</th>\n",
       "      <th>America Tropical Interpretive Center</th>\n",
       "    </tr>\n",
       "    <tr>\n",
       "      <th>Date</th>\n",
       "      <th></th>\n",
       "      <th></th>\n",
       "      <th></th>\n",
       "      <th></th>\n",
       "    </tr>\n",
       "  </thead>\n",
       "  <tbody>\n",
       "    <tr>\n",
       "      <th>2014-01-01</th>\n",
       "      <td>24778</td>\n",
       "      <td>4486</td>\n",
       "      <td>1581</td>\n",
       "      <td>6602</td>\n",
       "    </tr>\n",
       "    <tr>\n",
       "      <th>2014-02-01</th>\n",
       "      <td>18976</td>\n",
       "      <td>4172</td>\n",
       "      <td>1785</td>\n",
       "      <td>5029</td>\n",
       "    </tr>\n",
       "    <tr>\n",
       "      <th>2014-03-01</th>\n",
       "      <td>25231</td>\n",
       "      <td>7082</td>\n",
       "      <td>3229</td>\n",
       "      <td>8129</td>\n",
       "    </tr>\n",
       "    <tr>\n",
       "      <th>2014-04-01</th>\n",
       "      <td>26989</td>\n",
       "      <td>6756</td>\n",
       "      <td>2129</td>\n",
       "      <td>2824</td>\n",
       "    </tr>\n",
       "    <tr>\n",
       "      <th>2014-05-01</th>\n",
       "      <td>36883</td>\n",
       "      <td>10858</td>\n",
       "      <td>3676</td>\n",
       "      <td>10694</td>\n",
       "    </tr>\n",
       "  </tbody>\n",
       "</table>\n",
       "</div>"
      ],
      "text/plain": [
       "            Avila Adobe  Firehouse Museum  Chinese American Museum  \\\n",
       "Date                                                                 \n",
       "2014-01-01        24778              4486                     1581   \n",
       "2014-02-01        18976              4172                     1785   \n",
       "2014-03-01        25231              7082                     3229   \n",
       "2014-04-01        26989              6756                     2129   \n",
       "2014-05-01        36883             10858                     3676   \n",
       "\n",
       "            America Tropical Interpretive Center  \n",
       "Date                                              \n",
       "2014-01-01                                  6602  \n",
       "2014-02-01                                  5029  \n",
       "2014-03-01                                  8129  \n",
       "2014-04-01                                  2824  \n",
       "2014-05-01                                 10694  "
      ]
     },
     "execution_count": 5,
     "metadata": {},
     "output_type": "execute_result"
    }
   ],
   "source": [
    "# Print the last five rows of the data \n",
    "____ # Your code here\n",
    "museum_data.head()"
   ]
  },
  {
   "cell_type": "markdown",
   "id": "74155404",
   "metadata": {
    "papermill": {
     "duration": 0.006476,
     "end_time": "2022-08-28T13:29:27.673015",
     "exception": false,
     "start_time": "2022-08-28T13:29:27.666539",
     "status": "completed"
    },
    "tags": []
   },
   "source": [
    "The last row (for `2018-11-01`) tracks the number of visitors to each museum in November 2018, the next-to-last row (for `2018-10-01`) tracks the number of visitors to each museum in October 2018, _and so on_.\n",
    "\n",
    "Use the last 5 rows of the data to answer the questions below."
   ]
  },
  {
   "cell_type": "code",
   "execution_count": 6,
   "id": "8e64c8ae",
   "metadata": {
    "execution": {
     "iopub.execute_input": "2022-08-28T13:29:27.688205Z",
     "iopub.status.busy": "2022-08-28T13:29:27.687792Z",
     "iopub.status.idle": "2022-08-28T13:29:27.697633Z",
     "shell.execute_reply": "2022-08-28T13:29:27.696697Z"
    },
    "papermill": {
     "duration": 0.020106,
     "end_time": "2022-08-28T13:29:27.699832",
     "exception": false,
     "start_time": "2022-08-28T13:29:27.679726",
     "status": "completed"
    },
    "tags": []
   },
   "outputs": [
    {
     "data": {
      "application/javascript": [
       "parent.postMessage({\"jupyterEvent\": \"custom.exercise_interaction\", \"data\": {\"outcomeType\": 1, \"valueTowardsCompletion\": 0.3333333333333333, \"interactionType\": 1, \"questionType\": 1, \"questionId\": \"2_ReviewData\", \"learnToolsVersion\": \"0.3.4\", \"failureMessage\": \"\", \"exceptionClass\": \"\", \"trace\": \"\"}}, \"*\")"
      ],
      "text/plain": [
       "<IPython.core.display.Javascript object>"
      ]
     },
     "metadata": {},
     "output_type": "display_data"
    },
    {
     "data": {
      "text/markdown": [
       "<span style=\"color:#33cc33\">Correct</span>"
      ],
      "text/plain": [
       "Correct"
      ]
     },
     "metadata": {},
     "output_type": "display_data"
    }
   ],
   "source": [
    "# Fill in the line below: How many visitors did the Chinese American Museum \n",
    "# receive in July 2018?\n",
    "#museum_data.tail()\n",
    "ca_museum_jul18 = 2620 \n",
    "\n",
    "# Fill in the line below: In October 2018, how many more visitors did Avila \n",
    "# Adobe receive than the Firehouse Museum?\n",
    "avila_oct18 = 14658\n",
    "\n",
    "# Check your answers\n",
    "step_2.check()"
   ]
  },
  {
   "cell_type": "code",
   "execution_count": 7,
   "id": "8f45e7cd",
   "metadata": {
    "execution": {
     "iopub.execute_input": "2022-08-28T13:29:27.716696Z",
     "iopub.status.busy": "2022-08-28T13:29:27.715875Z",
     "iopub.status.idle": "2022-08-28T13:29:27.730182Z",
     "shell.execute_reply": "2022-08-28T13:29:27.729026Z"
    },
    "papermill": {
     "duration": 0.025803,
     "end_time": "2022-08-28T13:29:27.732498",
     "exception": false,
     "start_time": "2022-08-28T13:29:27.706695",
     "status": "completed"
    },
    "tags": []
   },
   "outputs": [
    {
     "data": {
      "application/javascript": [
       "parent.postMessage({\"jupyterEvent\": \"custom.exercise_interaction\", \"data\": {\"interactionType\": 2, \"questionType\": 1, \"questionId\": \"2_ReviewData\", \"learnToolsVersion\": \"0.3.4\", \"valueTowardsCompletion\": 0.0, \"failureMessage\": \"\", \"exceptionClass\": \"\", \"trace\": \"\", \"outcomeType\": 4}}, \"*\")"
      ],
      "text/plain": [
       "<IPython.core.display.Javascript object>"
      ]
     },
     "metadata": {},
     "output_type": "display_data"
    },
    {
     "data": {
      "text/markdown": [
       "<span style=\"color:#3366cc\">Hint:</span> Use the `tail()` command that you learned about in the tutorial to print the last five rows. **After printing the last five rows**, the number of visitors in July 2018 for each museum can be found in the row marked `2018-07-01`, and the number of visitors in October 2018 for each museum can be found in the row marked `2018-10-01`."
      ],
      "text/plain": [
       "Hint: Use the `tail()` command that you learned about in the tutorial to print the last five rows. **After printing the last five rows**, the number of visitors in July 2018 for each museum can be found in the row marked `2018-07-01`, and the number of visitors in October 2018 for each museum can be found in the row marked `2018-10-01`."
      ]
     },
     "metadata": {},
     "output_type": "display_data"
    },
    {
     "data": {
      "application/javascript": [
       "parent.postMessage({\"jupyterEvent\": \"custom.exercise_interaction\", \"data\": {\"interactionType\": 3, \"questionType\": 1, \"questionId\": \"2_ReviewData\", \"learnToolsVersion\": \"0.3.4\", \"valueTowardsCompletion\": 0.0, \"failureMessage\": \"\", \"exceptionClass\": \"\", \"trace\": \"\", \"outcomeType\": 4}}, \"*\")"
      ],
      "text/plain": [
       "<IPython.core.display.Javascript object>"
      ]
     },
     "metadata": {},
     "output_type": "display_data"
    },
    {
     "data": {
      "text/markdown": [
       "<span style=\"color:#33cc99\">Solution:</span> \n",
       "```python\n",
       "# Print the last five rows of the data\n",
       "museum_data.tail()\n",
       "# How many visitors did the Chinese American Museum \n",
       "# receive in July 2018? \n",
       "ca_museum_jul18 = 2620\n",
       "# In October 2018, how many more visitors did Avila \n",
       "# Adobe receive than the Firehouse Museum?\n",
       "avila_oct18 = 14658\n",
       "\n",
       "```"
      ],
      "text/plain": [
       "Solution: \n",
       "```python\n",
       "# Print the last five rows of the data\n",
       "museum_data.tail()\n",
       "# How many visitors did the Chinese American Museum \n",
       "# receive in July 2018? \n",
       "ca_museum_jul18 = 2620\n",
       "# In October 2018, how many more visitors did Avila \n",
       "# Adobe receive than the Firehouse Museum?\n",
       "avila_oct18 = 14658\n",
       "\n",
       "```"
      ]
     },
     "metadata": {},
     "output_type": "display_data"
    }
   ],
   "source": [
    "# Lines below will give you a hint or solution code\n",
    "step_2.hint()\n",
    "step_2.solution()"
   ]
  },
  {
   "cell_type": "markdown",
   "id": "9596b2d7",
   "metadata": {
    "papermill": {
     "duration": 0.006976,
     "end_time": "2022-08-28T13:29:27.747061",
     "exception": false,
     "start_time": "2022-08-28T13:29:27.740085",
     "status": "completed"
    },
    "tags": []
   },
   "source": [
    "## Step 3: Convince the museum board \n",
    "\n",
    "The Firehouse Museum claims they ran an event in 2014 that brought an incredible number of visitors, and that they should get extra budget to run a similar event again.  The other museums think these types of events aren't that important, and budgets should be split purely based on recent visitors on an average day.  \n",
    "\n",
    "To show the museum board how the event compared to regular traffic at each museum, create a line chart that shows how the number of visitors to each museum evolved over time.  Your figure should have four lines (one for each museum).\n",
    "\n",
    "> **(Optional) Note**: If you have some prior experience with plotting figures in Python, you might be familiar with the `plt.show()` command.  If you decide to use this command, please place it **after** the line of code that checks your answer (in this case, place it after `step_3.check()` below) -- otherwise, the checking code will return an error!"
   ]
  },
  {
   "cell_type": "code",
   "execution_count": 8,
   "id": "1af7de38",
   "metadata": {
    "execution": {
     "iopub.execute_input": "2022-08-28T13:29:27.765057Z",
     "iopub.status.busy": "2022-08-28T13:29:27.764046Z",
     "iopub.status.idle": "2022-08-28T13:29:28.268945Z",
     "shell.execute_reply": "2022-08-28T13:29:28.267845Z"
    },
    "papermill": {
     "duration": 0.516079,
     "end_time": "2022-08-28T13:29:28.271533",
     "exception": false,
     "start_time": "2022-08-28T13:29:27.755454",
     "status": "completed"
    },
    "tags": []
   },
   "outputs": [
    {
     "data": {
      "application/javascript": [
       "parent.postMessage({\"jupyterEvent\": \"custom.exercise_interaction\", \"data\": {\"outcomeType\": 1, \"valueTowardsCompletion\": 0.3333333333333333, \"interactionType\": 1, \"questionType\": 2, \"questionId\": \"3_PlotAll\", \"learnToolsVersion\": \"0.3.4\", \"failureMessage\": \"\", \"exceptionClass\": \"\", \"trace\": \"\"}}, \"*\")"
      ],
      "text/plain": [
       "<IPython.core.display.Javascript object>"
      ]
     },
     "metadata": {},
     "output_type": "display_data"
    },
    {
     "data": {
      "text/markdown": [
       "<span style=\"color:#33cc33\">Correct</span>"
      ],
      "text/plain": [
       "Correct"
      ]
     },
     "metadata": {},
     "output_type": "display_data"
    },
    {
     "data": {
      "image/png": "[encoded data removed]",
      "text/plain": [
       "<Figure size 1008x432 with 1 Axes>"
      ]
     },
     "metadata": {
      "needs_background": "light"
     },
     "output_type": "display_data"
    }
   ],
   "source": [
    "# Line chart showing the number of visitors to each museum over time\n",
    "____ # Your code here\n",
    "plt.figure(figsize=(14,6))\n",
    "plt.title(\"Daily visitors\")\n",
    "sns.lineplot(data=museum_data)\n",
    "\n",
    "# Check your answer\n",
    "step_3.check()"
   ]
  },
  {
   "cell_type": "code",
   "execution_count": 9,
   "id": "8c236ef9",
   "metadata": {
    "execution": {
     "iopub.execute_input": "2022-08-28T13:29:28.290324Z",
     "iopub.status.busy": "2022-08-28T13:29:28.289798Z",
     "iopub.status.idle": "2022-08-28T13:29:28.295024Z",
     "shell.execute_reply": "2022-08-28T13:29:28.293782Z"
    },
    "papermill": {
     "duration": 0.018095,
     "end_time": "2022-08-28T13:29:28.297796",
     "exception": false,
     "start_time": "2022-08-28T13:29:28.279701",
     "status": "completed"
    },
    "tags": []
   },
   "outputs": [],
   "source": [
    "# Lines below will give you a hint or solution code\n",
    "#step_3.hint()\n",
    "#step_3.solution_plot()"
   ]
  },
  {
   "cell_type": "markdown",
   "id": "194a0254",
   "metadata": {
    "papermill": {
     "duration": 0.012017,
     "end_time": "2022-08-28T13:29:28.322683",
     "exception": false,
     "start_time": "2022-08-28T13:29:28.310666",
     "status": "completed"
    },
    "tags": []
   },
   "source": [
    "## Step 4: Assess seasonality\n",
    "\n",
    "When meeting with the employees at Avila Adobe, you hear that one major pain point is that the number of museum visitors varies greatly with the seasons, with low seasons (when the employees are perfectly staffed and happy) and also high seasons (when the employees are understaffed and stressed).  You realize that if you can predict these high and low seasons, you can plan ahead to hire some additional seasonal employees to help out with the extra work.\n",
    "\n",
    "#### Part A\n",
    "Create a line chart that shows how the number of visitors to Avila Adobe has evolved over time.  (_If your code returns an error, the first thing that you should check is that you've spelled the name of the column correctly!  You must write the name of the column exactly as it appears in the dataset._)"
   ]
  },
  {
   "cell_type": "code",
   "execution_count": 10,
   "id": "d53f5de3",
   "metadata": {
    "execution": {
     "iopub.execute_input": "2022-08-28T13:29:28.342662Z",
     "iopub.status.busy": "2022-08-28T13:29:28.341411Z",
     "iopub.status.idle": "2022-08-28T13:29:28.641267Z",
     "shell.execute_reply": "2022-08-28T13:29:28.640197Z"
    },
    "papermill": {
     "duration": 0.312341,
     "end_time": "2022-08-28T13:29:28.643825",
     "exception": false,
     "start_time": "2022-08-28T13:29:28.331484",
     "status": "completed"
    },
    "tags": []
   },
   "outputs": [
    {
     "name": "stdout",
     "output_type": "stream",
     "text": [
      "Thank you for creating a line chart!  To see how your code compares to the official solution, please use the code cell below.\n"
     ]
    },
    {
     "data": {
      "application/javascript": [
       "parent.postMessage({\"jupyterEvent\": \"custom.exercise_interaction\", \"data\": {\"outcomeType\": 1, \"valueTowardsCompletion\": 0.3333333333333333, \"interactionType\": 1, \"questionType\": 2, \"questionId\": \"4.1_PlotAvila\", \"learnToolsVersion\": \"0.3.4\", \"failureMessage\": \"\", \"exceptionClass\": \"\", \"trace\": \"\"}}, \"*\")"
      ],
      "text/plain": [
       "<IPython.core.display.Javascript object>"
      ]
     },
     "metadata": {},
     "output_type": "display_data"
    },
    {
     "data": {
      "text/markdown": [
       "<span style=\"color:#33cc33\">Correct</span>"
      ],
      "text/plain": [
       "Correct"
      ]
     },
     "metadata": {},
     "output_type": "display_data"
    },
    {
     "data": {
      "image/png": "[encoded data removed]",
      "text/plain": [
       "<Figure size 1008x432 with 1 Axes>"
      ]
     },
     "metadata": {
      "needs_background": "light"
     },
     "output_type": "display_data"
    }
   ],
   "source": [
    "# Line plot showing the number of visitors to Avila Adobe over time\n",
    "____ # Your code here\n",
    "list(museum_data.columns)\n",
    "plt.figure(figsize=(14,6))\n",
    "plt.title(\"Daily visitors\")\n",
    "sns.lineplot(data=museum_data['Avila Adobe'], label='Avila Adobe')\n",
    "plt.xlabel(\"Date\")\n",
    "\n",
    "# Check your answer\n",
    "step_4.a.check()"
   ]
  },
  {
   "cell_type": "code",
   "execution_count": 11,
   "id": "f1047cf2",
   "metadata": {
    "execution": {
     "iopub.execute_input": "2022-08-28T13:29:28.664843Z",
     "iopub.status.busy": "2022-08-28T13:29:28.664471Z",
     "iopub.status.idle": "2022-08-28T13:29:28.670192Z",
     "shell.execute_reply": "2022-08-28T13:29:28.669022Z"
    },
    "papermill": {
     "duration": 0.01858,
     "end_time": "2022-08-28T13:29:28.672290",
     "exception": false,
     "start_time": "2022-08-28T13:29:28.653710",
     "status": "completed"
    },
    "tags": []
   },
   "outputs": [],
   "source": [
    "# Lines below will give you a hint or solution code\n",
    "#step_4.a.hint()\n",
    "#step_4.a.solution_plot()"
   ]
  },
  {
   "cell_type": "markdown",
   "id": "3e9256a2",
   "metadata": {
    "papermill": {
     "duration": 0.008972,
     "end_time": "2022-08-28T13:29:28.690626",
     "exception": false,
     "start_time": "2022-08-28T13:29:28.681654",
     "status": "completed"
    },
    "tags": []
   },
   "source": [
    "#### Part B\n",
    "\n",
    "Does Avila Adobe get more visitors:\n",
    "- in September-February (in LA, the fall and winter months), or \n",
    "- in March-August (in LA, the spring and summer)?  \n",
    "\n",
    "Using this information, when should the museum staff additional seasonal employees?"
   ]
  },
  {
   "cell_type": "code",
   "execution_count": 12,
   "id": "327c6a78",
   "metadata": {
    "execution": {
     "iopub.execute_input": "2022-08-28T13:29:28.712127Z",
     "iopub.status.busy": "2022-08-28T13:29:28.711137Z",
     "iopub.status.idle": "2022-08-28T13:29:28.721557Z",
     "shell.execute_reply": "2022-08-28T13:29:28.720462Z"
    },
    "papermill": {
     "duration": 0.023712,
     "end_time": "2022-08-28T13:29:28.723708",
     "exception": false,
     "start_time": "2022-08-28T13:29:28.699996",
     "status": "completed"
    },
    "tags": []
   },
   "outputs": [
    {
     "data": {
      "application/javascript": [
       "parent.postMessage({\"jupyterEvent\": \"custom.exercise_interaction\", \"data\": {\"interactionType\": 2, \"questionType\": 4, \"questionId\": \"4.2_ThinkAvila\", \"learnToolsVersion\": \"0.3.4\", \"valueTowardsCompletion\": 0.0, \"failureMessage\": \"\", \"exceptionClass\": \"\", \"trace\": \"\", \"outcomeType\": 4}}, \"*\")"
      ],
      "text/plain": [
       "<IPython.core.display.Javascript object>"
      ]
     },
     "metadata": {},
     "output_type": "display_data"
    },
    {
     "data": {
      "text/markdown": [
       "<span style=\"color:#3366cc\">Hint:</span> Look at the early part of each year (around January).  Does the line chart dip to low values or reach relatively high values?"
      ],
      "text/plain": [
       "Hint: Look at the early part of each year (around January).  Does the line chart dip to low values or reach relatively high values?"
      ]
     },
     "metadata": {},
     "output_type": "display_data"
    }
   ],
   "source": [
    "step_4.b.hint()"
   ]
  },
  {
   "cell_type": "code",
   "execution_count": 13,
   "id": "3b0fb463",
   "metadata": {
    "execution": {
     "iopub.execute_input": "2022-08-28T13:29:28.745447Z",
     "iopub.status.busy": "2022-08-28T13:29:28.744505Z",
     "iopub.status.idle": "2022-08-28T13:29:28.755845Z",
     "shell.execute_reply": "2022-08-28T13:29:28.754606Z"
    },
    "papermill": {
     "duration": 0.024843,
     "end_time": "2022-08-28T13:29:28.758173",
     "exception": false,
     "start_time": "2022-08-28T13:29:28.733330",
     "status": "completed"
    },
    "tags": []
   },
   "outputs": [
    {
     "data": {
      "application/javascript": [
       "parent.postMessage({\"jupyterEvent\": \"custom.exercise_interaction\", \"data\": {\"interactionType\": 3, \"questionType\": 4, \"questionId\": \"4.2_ThinkAvila\", \"learnToolsVersion\": \"0.3.4\", \"valueTowardsCompletion\": 0.0, \"failureMessage\": \"\", \"exceptionClass\": \"\", \"trace\": \"\", \"outcomeType\": 4}}, \"*\")"
      ],
      "text/plain": [
       "<IPython.core.display.Javascript object>"
      ]
     },
     "metadata": {},
     "output_type": "display_data"
    },
    {
     "data": {
      "text/markdown": [
       "<span style=\"color:#33cc99\">Solution:</span> The line chart generally dips to relatively low values around the early part of each year (in December and January), and reaches its highest values in the middle of the year (especially around May and June).  Thus, Avila Adobe usually gets more visitors in March-August (or the spring and summer months).  With this in mind, Avila Adobe could definitely benefit from hiring more seasonal employees to help with the extra work in March-August (the spring and summer)!"
      ],
      "text/plain": [
       "Solution: The line chart generally dips to relatively low values around the early part of each year (in December and January), and reaches its highest values in the middle of the year (especially around May and June).  Thus, Avila Adobe usually gets more visitors in March-August (or the spring and summer months).  With this in mind, Avila Adobe could definitely benefit from hiring more seasonal employees to help with the extra work in March-August (the spring and summer)!"
      ]
     },
     "metadata": {},
     "output_type": "display_data"
    }
   ],
   "source": [
    "# Check your answer (Run this code cell to receive credit!)\n",
    "step_4.b.solution()"
   ]
  },
  {
   "cell_type": "markdown",
   "id": "1f0cf32c",
   "metadata": {
    "papermill": {
     "duration": 0.009575,
     "end_time": "2022-08-28T13:29:28.777702",
     "exception": false,
     "start_time": "2022-08-28T13:29:28.768127",
     "status": "completed"
    },
    "tags": []
   },
   "source": [
    "# Keep going\n",
    "\n",
    "Move on to learn about **[bar charts and heatmaps](https://www.kaggle.com/alexisbcook/bar-charts-and-heatmaps)** with a new dataset!"
   ]
  },
  {
   "cell_type": "markdown",
   "id": "f18fc93c",
   "metadata": {
    "papermill": {
     "duration": 0.009501,
     "end_time": "2022-08-28T13:29:28.797209",
     "exception": false,
     "start_time": "2022-08-28T13:29:28.787708",
     "status": "completed"
    },
    "tags": []
   },
   "source": [
    "---\n",
    "\n",
    "\n",
    "\n",
    "\n",
    "*Have questions or comments? Visit the [course discussion forum](https://www.kaggle.com/learn/data-visualization/discussion) to chat with other learners.*"
   ]
  }
 ],
 "metadata": {
  "kernelspec": {
   "display_name": "Python 3",
   "language": "python",
   "name": "python3"
  },
  "language_info": {
   "codemirror_mode": {
    "name": "ipython",
    "version": 3
   },
   "file_extension": ".py",
   "mimetype": "text/x-python",
   "name": "python",
   "nbconvert_exporter": "python",
   "pygments_lexer": "ipython3",
   "version": "3.7.12"
  },
  "papermill": {
   "default_parameters": {},
   "duration": 12.413969,
   "end_time": "2022-08-28T13:29:29.528656",
   "environment_variables": {},
   "exception": null,
   "input_path": "__notebook__.ipynb",
   "output_path": "__notebook__.ipynb",
   "parameters": {},
   "start_time": "2022-08-28T13:29:17.114687",
   "version": "2.3.4"
  }
 },
 "nbformat": 4,
 "nbformat_minor": 5
}
