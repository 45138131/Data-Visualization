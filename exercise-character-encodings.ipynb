{
 "cells": [
  {
   "cell_type": "markdown",
   "id": "4190453b",
   "metadata": {
    "papermill": {
     "duration": 0.005814,
     "end_time": "2022-08-28T13:41:11.467923",
     "exception": false,
     "start_time": "2022-08-28T13:41:11.462109",
     "status": "completed"
    },
    "tags": []
   },
   "source": [
    "**This notebook is an exercise in the [Data Cleaning](https://www.kaggle.com/learn/data-cleaning) course.  You can reference the tutorial at [this link](https://www.kaggle.com/alexisbcook/character-encodings).**\n",
    "\n",
    "---\n"
   ]
  },
  {
   "cell_type": "markdown",
   "id": "7be10753",
   "metadata": {
    "papermill": {
     "duration": 0.004248,
     "end_time": "2022-08-28T13:41:11.476923",
     "exception": false,
     "start_time": "2022-08-28T13:41:11.472675",
     "status": "completed"
    },
    "tags": []
   },
   "source": [
    "In this exercise, you'll apply what you learned in the **Character encodings** tutorial.\n",
    "\n",
    "# Setup\n",
    "\n",
    "The questions below will give you feedback on your work. Run the following cell to set up the feedback system."
   ]
  },
  {
   "cell_type": "code",
   "execution_count": 1,
   "id": "05ed1cd0",
   "metadata": {
    "execution": {
     "iopub.execute_input": "2022-08-28T13:41:11.488986Z",
     "iopub.status.busy": "2022-08-28T13:41:11.487639Z",
     "iopub.status.idle": "2022-08-28T13:41:11.581095Z",
     "shell.execute_reply": "2022-08-28T13:41:11.578849Z"
    },
    "papermill": {
     "duration": 0.103835,
     "end_time": "2022-08-28T13:41:11.585369",
     "exception": false,
     "start_time": "2022-08-28T13:41:11.481534",
     "status": "completed"
    },
    "tags": []
   },
   "outputs": [
    {
     "name": "stdout",
     "output_type": "stream",
     "text": [
      "Setup Complete\n"
     ]
    }
   ],
   "source": [
    "from learntools.core import binder\n",
    "binder.bind(globals())\n",
    "from learntools.data_cleaning.ex4 import *\n",
    "print(\"Setup Complete\")"
   ]
  },
  {
   "cell_type": "markdown",
   "id": "c029d6f2",
   "metadata": {
    "papermill": {
     "duration": 0.004462,
     "end_time": "2022-08-28T13:41:11.598100",
     "exception": false,
     "start_time": "2022-08-28T13:41:11.593638",
     "status": "completed"
    },
    "tags": []
   },
   "source": [
    "# Get our environment set up\n",
    "\n",
    "The first thing we'll need to do is load in the libraries we'll be using."
   ]
  },
  {
   "cell_type": "code",
   "execution_count": 2,
   "id": "f9a7de1f",
   "metadata": {
    "execution": {
     "iopub.execute_input": "2022-08-28T13:41:11.610427Z",
     "iopub.status.busy": "2022-08-28T13:41:11.609857Z",
     "iopub.status.idle": "2022-08-28T13:41:11.616276Z",
     "shell.execute_reply": "2022-08-28T13:41:11.615157Z"
    },
    "papermill": {
     "duration": 0.015223,
     "end_time": "2022-08-28T13:41:11.618578",
     "exception": false,
     "start_time": "2022-08-28T13:41:11.603355",
     "status": "completed"
    },
    "tags": []
   },
   "outputs": [],
   "source": [
    "# modules we'll use\n",
    "import pandas as pd\n",
    "import numpy as np\n",
    "\n",
    "# helpful character encoding module\n",
    "import chardet\n",
    "\n",
    "# set seed for reproducibility\n",
    "np.random.seed(0)"
   ]
  },
  {
   "cell_type": "markdown",
   "id": "50e0793c",
   "metadata": {
    "papermill": {
     "duration": 0.004444,
     "end_time": "2022-08-28T13:41:11.628405",
     "exception": false,
     "start_time": "2022-08-28T13:41:11.623961",
     "status": "completed"
    },
    "tags": []
   },
   "source": [
    "# 1) What are encodings?\n",
    "\n",
    "You're working with a dataset composed of bytes.  Run the code cell below to print a sample entry."
   ]
  },
  {
   "cell_type": "code",
   "execution_count": 3,
   "id": "b60a43ae",
   "metadata": {
    "execution": {
     "iopub.execute_input": "2022-08-28T13:41:11.641373Z",
     "iopub.status.busy": "2022-08-28T13:41:11.640557Z",
     "iopub.status.idle": "2022-08-28T13:41:11.646905Z",
     "shell.execute_reply": "2022-08-28T13:41:11.645897Z"
    },
    "papermill": {
     "duration": 0.016761,
     "end_time": "2022-08-28T13:41:11.649891",
     "exception": false,
     "start_time": "2022-08-28T13:41:11.633130",
     "status": "completed"
    },
    "tags": []
   },
   "outputs": [
    {
     "name": "stdout",
     "output_type": "stream",
     "text": [
      "b'\\xa7A\\xa6n'\n",
      "data type: <class 'bytes'>\n"
     ]
    }
   ],
   "source": [
    "sample_entry = b'\\xa7A\\xa6n'\n",
    "print(sample_entry)\n",
    "print('data type:', type(sample_entry))"
   ]
  },
  {
   "cell_type": "markdown",
   "id": "b0c3110e",
   "metadata": {
    "papermill": {
     "duration": 0.006772,
     "end_time": "2022-08-28T13:41:11.663376",
     "exception": false,
     "start_time": "2022-08-28T13:41:11.656604",
     "status": "completed"
    },
    "tags": []
   },
   "source": [
    "You notice that it doesn't use the standard UTF-8 encoding. \n",
    "\n",
    "Use the next code cell to create a variable `new_entry` that changes the encoding from `\"big5-tw\"` to `\"utf-8\"`.  `new_entry` should have the bytes datatype."
   ]
  },
  {
   "cell_type": "code",
   "execution_count": 4,
   "id": "c5ae88a2",
   "metadata": {
    "execution": {
     "iopub.execute_input": "2022-08-28T13:41:11.678627Z",
     "iopub.status.busy": "2022-08-28T13:41:11.677974Z",
     "iopub.status.idle": "2022-08-28T13:41:11.688834Z",
     "shell.execute_reply": "2022-08-28T13:41:11.688064Z"
    },
    "papermill": {
     "duration": 0.021185,
     "end_time": "2022-08-28T13:41:11.691577",
     "exception": false,
     "start_time": "2022-08-28T13:41:11.670392",
     "status": "completed"
    },
    "tags": []
   },
   "outputs": [
    {
     "data": {
      "application/javascript": [
       "parent.postMessage({\"jupyterEvent\": \"custom.exercise_interaction\", \"data\": {\"outcomeType\": 1, \"valueTowardsCompletion\": 0.3333333333333333, \"interactionType\": 1, \"questionType\": 1, \"questionId\": \"1_EncodingsIntro\", \"learnToolsVersion\": \"0.3.4\", \"failureMessage\": \"\", \"exceptionClass\": \"\", \"trace\": \"\"}}, \"*\")"
      ],
      "text/plain": [
       "<IPython.core.display.Javascript object>"
      ]
     },
     "metadata": {},
     "output_type": "display_data"
    },
    {
     "data": {
      "text/markdown": [
       "<span style=\"color:#33cc33\">Correct</span>"
      ],
      "text/plain": [
       "Correct"
      ]
     },
     "metadata": {},
     "output_type": "display_data"
    }
   ],
   "source": [
    "before = sample_entry.decode(\"big5_tw\")\n",
    "new_entry = before.encode()\n",
    "\n",
    "\n",
    "# Check your answer\n",
    "q1.check()"
   ]
  },
  {
   "cell_type": "code",
   "execution_count": 5,
   "id": "1bab656c",
   "metadata": {
    "execution": {
     "iopub.execute_input": "2022-08-28T13:41:11.706603Z",
     "iopub.status.busy": "2022-08-28T13:41:11.706226Z",
     "iopub.status.idle": "2022-08-28T13:41:11.716336Z",
     "shell.execute_reply": "2022-08-28T13:41:11.715532Z"
    },
    "papermill": {
     "duration": 0.018511,
     "end_time": "2022-08-28T13:41:11.718476",
     "exception": false,
     "start_time": "2022-08-28T13:41:11.699965",
     "status": "completed"
    },
    "tags": []
   },
   "outputs": [
    {
     "data": {
      "application/javascript": [
       "parent.postMessage({\"jupyterEvent\": \"custom.exercise_interaction\", \"data\": {\"interactionType\": 2, \"questionType\": 1, \"questionId\": \"1_EncodingsIntro\", \"learnToolsVersion\": \"0.3.4\", \"valueTowardsCompletion\": 0.0, \"failureMessage\": \"\", \"exceptionClass\": \"\", \"trace\": \"\", \"outcomeType\": 4}}, \"*\")"
      ],
      "text/plain": [
       "<IPython.core.display.Javascript object>"
      ]
     },
     "metadata": {},
     "output_type": "display_data"
    },
    {
     "data": {
      "text/markdown": [
       "<span style=\"color:#3366cc\">Hint:</span> Try using `.decode()` to get the string, then `.encode()` to get the bytes representation, encoded in UTF-8."
      ],
      "text/plain": [
       "Hint: Try using `.decode()` to get the string, then `.encode()` to get the bytes representation, encoded in UTF-8."
      ]
     },
     "metadata": {},
     "output_type": "display_data"
    },
    {
     "data": {
      "application/javascript": [
       "parent.postMessage({\"jupyterEvent\": \"custom.exercise_interaction\", \"data\": {\"interactionType\": 3, \"questionType\": 1, \"questionId\": \"1_EncodingsIntro\", \"learnToolsVersion\": \"0.3.4\", \"valueTowardsCompletion\": 0.0, \"failureMessage\": \"\", \"exceptionClass\": \"\", \"trace\": \"\", \"outcomeType\": 4}}, \"*\")"
      ],
      "text/plain": [
       "<IPython.core.display.Javascript object>"
      ]
     },
     "metadata": {},
     "output_type": "display_data"
    },
    {
     "data": {
      "text/markdown": [
       "<span style=\"color:#33cc99\">Solution:</span> \n",
       "```python\n",
       "before = sample_entry.decode(\"big5-tw\")\n",
       "new_entry = before.encode()\n",
       "\n",
       "```"
      ],
      "text/plain": [
       "Solution: \n",
       "```python\n",
       "before = sample_entry.decode(\"big5-tw\")\n",
       "new_entry = before.encode()\n",
       "\n",
       "```"
      ]
     },
     "metadata": {},
     "output_type": "display_data"
    }
   ],
   "source": [
    "# Lines below will give you a hint or solution code\n",
    "q1.hint()\n",
    "q1.solution()"
   ]
  },
  {
   "cell_type": "markdown",
   "id": "a7c696f0",
   "metadata": {
    "papermill": {
     "duration": 0.005111,
     "end_time": "2022-08-28T13:41:11.729028",
     "exception": false,
     "start_time": "2022-08-28T13:41:11.723917",
     "status": "completed"
    },
    "tags": []
   },
   "source": [
    "# 2) Reading in files with encoding problems\n",
    "\n",
    "Use the code cell below to read in this file at path `\"../input/fatal-police-shootings-in-the-us/PoliceKillingsUS.csv\"`.  \n",
    "\n",
    "Figure out what the correct encoding should be and read in the file to a DataFrame `police_killings`."
   ]
  },
  {
   "cell_type": "code",
   "execution_count": 6,
   "id": "10a5e5e9",
   "metadata": {
    "execution": {
     "iopub.execute_input": "2022-08-28T13:41:11.741821Z",
     "iopub.status.busy": "2022-08-28T13:41:11.741197Z",
     "iopub.status.idle": "2022-08-28T13:41:11.758564Z",
     "shell.execute_reply": "2022-08-28T13:41:11.757732Z"
    },
    "papermill": {
     "duration": 0.026443,
     "end_time": "2022-08-28T13:41:11.760740",
     "exception": false,
     "start_time": "2022-08-28T13:41:11.734297",
     "status": "completed"
    },
    "tags": []
   },
   "outputs": [],
   "source": [
    "# TODO: Load in the DataFrame correctly.\n",
    "#police_killings = pd.read_csv(\"../input/fatal-police-shootings-in-the-us/PoliceKillingsUs.csv\",encoding='Windows-1252')\n",
    "police_killings = pd.read_csv(\"../input/fatal-police-shootings-in-the-us/PoliceKillingsUS.csv\", encoding='Windows-1252')\n",
    "# Check your answer\n",
    "#q2.check()"
   ]
  },
  {
   "cell_type": "markdown",
   "id": "397b4379",
   "metadata": {
    "papermill": {
     "duration": 0.005053,
     "end_time": "2022-08-28T13:41:11.771203",
     "exception": false,
     "start_time": "2022-08-28T13:41:11.766150",
     "status": "completed"
    },
    "tags": []
   },
   "source": [
    "Feel free to use any additional code cells for supplemental work.  To get credit for finishing this question, you'll need to run `q2.check()` and get a result of **Correct**."
   ]
  },
  {
   "cell_type": "code",
   "execution_count": 7,
   "id": "bf5f0f7a",
   "metadata": {
    "execution": {
     "iopub.execute_input": "2022-08-28T13:41:11.783318Z",
     "iopub.status.busy": "2022-08-28T13:41:11.782661Z",
     "iopub.status.idle": "2022-08-28T13:41:11.786909Z",
     "shell.execute_reply": "2022-08-28T13:41:11.786137Z"
    },
    "papermill": {
     "duration": 0.012455,
     "end_time": "2022-08-28T13:41:11.788858",
     "exception": false,
     "start_time": "2022-08-28T13:41:11.776403",
     "status": "completed"
    },
    "tags": []
   },
   "outputs": [],
   "source": [
    "# (Optional) Use this code cell for any additional work.\n"
   ]
  },
  {
   "cell_type": "code",
   "execution_count": 8,
   "id": "00fc5e70",
   "metadata": {
    "execution": {
     "iopub.execute_input": "2022-08-28T13:41:11.802557Z",
     "iopub.status.busy": "2022-08-28T13:41:11.802151Z",
     "iopub.status.idle": "2022-08-28T13:41:11.820705Z",
     "shell.execute_reply": "2022-08-28T13:41:11.819325Z"
    },
    "papermill": {
     "duration": 0.029097,
     "end_time": "2022-08-28T13:41:11.823419",
     "exception": false,
     "start_time": "2022-08-28T13:41:11.794322",
     "status": "completed"
    },
    "tags": []
   },
   "outputs": [
    {
     "data": {
      "application/javascript": [
       "parent.postMessage({\"jupyterEvent\": \"custom.exercise_interaction\", \"data\": {\"interactionType\": 2, \"questionType\": 1, \"questionId\": \"2_ReadIn\", \"learnToolsVersion\": \"0.3.4\", \"valueTowardsCompletion\": 0.0, \"failureMessage\": \"\", \"exceptionClass\": \"\", \"trace\": \"\", \"outcomeType\": 4}}, \"*\")"
      ],
      "text/plain": [
       "<IPython.core.display.Javascript object>"
      ]
     },
     "metadata": {},
     "output_type": "display_data"
    },
    {
     "data": {
      "text/markdown": [
       "<span style=\"color:#3366cc\">Hint:</span> If you try to guess the encoding with the first 10,000 bytes of the file, it might give you the wrong answer.  Try using 100,000 or more lines of the file."
      ],
      "text/plain": [
       "Hint: If you try to guess the encoding with the first 10,000 bytes of the file, it might give you the wrong answer.  Try using 100,000 or more lines of the file."
      ]
     },
     "metadata": {},
     "output_type": "display_data"
    },
    {
     "data": {
      "application/javascript": [
       "parent.postMessage({\"jupyterEvent\": \"custom.exercise_interaction\", \"data\": {\"interactionType\": 3, \"questionType\": 1, \"questionId\": \"2_ReadIn\", \"learnToolsVersion\": \"0.3.4\", \"valueTowardsCompletion\": 0.0, \"failureMessage\": \"\", \"exceptionClass\": \"\", \"trace\": \"\", \"outcomeType\": 4}}, \"*\")"
      ],
      "text/plain": [
       "<IPython.core.display.Javascript object>"
      ]
     },
     "metadata": {},
     "output_type": "display_data"
    },
    {
     "data": {
      "text/markdown": [
       "<span style=\"color:#33cc99\">Solution:</span> \n",
       "```python\n",
       "police_killings = pd.read_csv(\"../input/fatal-police-shootings-in-the-us/PoliceKillingsUS.csv\", encoding='Windows-1252')\n",
       "\n",
       "```"
      ],
      "text/plain": [
       "Solution: \n",
       "```python\n",
       "police_killings = pd.read_csv(\"../input/fatal-police-shootings-in-the-us/PoliceKillingsUS.csv\", encoding='Windows-1252')\n",
       "\n",
       "```"
      ]
     },
     "metadata": {},
     "output_type": "display_data"
    }
   ],
   "source": [
    "# Lines below will give you a hint or solution code\n",
    "q2.hint()\n",
    "\n",
    "q2.solution()"
   ]
  },
  {
   "cell_type": "markdown",
   "id": "e5dbffd8",
   "metadata": {
    "papermill": {
     "duration": 0.006549,
     "end_time": "2022-08-28T13:41:11.837943",
     "exception": false,
     "start_time": "2022-08-28T13:41:11.831394",
     "status": "completed"
    },
    "tags": []
   },
   "source": [
    "# 3) Saving your files with UTF-8 encoding\n",
    "\n",
    "Save a version of the police killings dataset to CSV with UTF-8 encoding.  Your answer will be marked correct after saving this file.  \n",
    "\n",
    "Note: When using the `to_csv()` method, supply only the name of the file (e.g., `\"my_file.csv\"`).  This saves the file at the filepath `\"/kaggle/working/my_file.csv\"`."
   ]
  },
  {
   "cell_type": "code",
   "execution_count": 9,
   "id": "d59e3d1a",
   "metadata": {
    "execution": {
     "iopub.execute_input": "2022-08-28T13:41:11.854222Z",
     "iopub.status.busy": "2022-08-28T13:41:11.853528Z",
     "iopub.status.idle": "2022-08-28T13:41:11.890741Z",
     "shell.execute_reply": "2022-08-28T13:41:11.889819Z"
    },
    "papermill": {
     "duration": 0.049471,
     "end_time": "2022-08-28T13:41:11.893950",
     "exception": false,
     "start_time": "2022-08-28T13:41:11.844479",
     "status": "completed"
    },
    "tags": []
   },
   "outputs": [
    {
     "data": {
      "application/javascript": [
       "parent.postMessage({\"jupyterEvent\": \"custom.exercise_interaction\", \"data\": {\"outcomeType\": 1, \"valueTowardsCompletion\": 0.3333333333333333, \"interactionType\": 1, \"questionType\": 2, \"questionId\": \"3_SaveCSV\", \"learnToolsVersion\": \"0.3.4\", \"failureMessage\": \"\", \"exceptionClass\": \"\", \"trace\": \"\"}}, \"*\")"
      ],
      "text/plain": [
       "<IPython.core.display.Javascript object>"
      ]
     },
     "metadata": {},
     "output_type": "display_data"
    },
    {
     "data": {
      "text/markdown": [
       "<span style=\"color:#33cc33\">Correct</span>"
      ],
      "text/plain": [
       "Correct"
      ]
     },
     "metadata": {},
     "output_type": "display_data"
    }
   ],
   "source": [
    "# TODO: Save the police killings dataset to CSV\n",
    "police_killings.to_csv(\"my_file.csv\")\n",
    "\n",
    "# Check your answer\n",
    "q3.check()"
   ]
  },
  {
   "cell_type": "code",
   "execution_count": 10,
   "id": "5a2c910d",
   "metadata": {
    "execution": {
     "iopub.execute_input": "2022-08-28T13:41:11.908430Z",
     "iopub.status.busy": "2022-08-28T13:41:11.907725Z",
     "iopub.status.idle": "2022-08-28T13:41:11.914843Z",
     "shell.execute_reply": "2022-08-28T13:41:11.914115Z"
    },
    "papermill": {
     "duration": 0.01647,
     "end_time": "2022-08-28T13:41:11.916826",
     "exception": false,
     "start_time": "2022-08-28T13:41:11.900356",
     "status": "completed"
    },
    "tags": []
   },
   "outputs": [
    {
     "data": {
      "application/javascript": [
       "parent.postMessage({\"jupyterEvent\": \"custom.exercise_interaction\", \"data\": {\"interactionType\": 3, \"questionType\": 2, \"questionId\": \"3_SaveCSV\", \"learnToolsVersion\": \"0.3.4\", \"valueTowardsCompletion\": 0.0, \"failureMessage\": \"\", \"exceptionClass\": \"\", \"trace\": \"\", \"outcomeType\": 4}}, \"*\")"
      ],
      "text/plain": [
       "<IPython.core.display.Javascript object>"
      ]
     },
     "metadata": {},
     "output_type": "display_data"
    },
    {
     "data": {
      "text/markdown": [
       "<span style=\"color:#33cc99\">Solution:</span> \n",
       "```python\n",
       "\n",
       "police_killings.to_csv(\"my_file.csv\")\n",
       "\n",
       "```"
      ],
      "text/plain": [
       "Solution: \n",
       "```python\n",
       "\n",
       "police_killings.to_csv(\"my_file.csv\")\n",
       "\n",
       "```"
      ]
     },
     "metadata": {},
     "output_type": "display_data"
    }
   ],
   "source": [
    "# Lines below will give you a hint or solution code\n",
    "#q3.hint()\n",
    "q3.solution()"
   ]
  },
  {
   "cell_type": "markdown",
   "id": "c459d063",
   "metadata": {
    "papermill": {
     "duration": 0.006071,
     "end_time": "2022-08-28T13:41:11.929141",
     "exception": false,
     "start_time": "2022-08-28T13:41:11.923070",
     "status": "completed"
    },
    "tags": []
   },
   "source": [
    "# (Optional) More practice\n",
    "\n",
    "Check out [this dataset of files in different character encodings](https://www.kaggle.com/rtatman/character-encoding-examples). Can you read in all the files with their original encodings and them save them out as UTF-8 files?\n",
    "\n",
    "If you have a file that's in UTF-8 but has just a couple of weird-looking characters in it, you can try out the [ftfy module](https://ftfy.readthedocs.io/en/latest/#) and see if it helps. \n",
    "\n",
    "# Keep going\n",
    "\n",
    "In the final lesson, learn how to [**clean up inconsistent text entries**](https://www.kaggle.com/alexisbcook/inconsistent-data-entry) in your dataset."
   ]
  },
  {
   "cell_type": "markdown",
   "id": "6998a0ab",
   "metadata": {
    "papermill": {
     "duration": 0.005973,
     "end_time": "2022-08-28T13:41:11.941536",
     "exception": false,
     "start_time": "2022-08-28T13:41:11.935563",
     "status": "completed"
    },
    "tags": []
   },
   "source": [
    "---\n",
    "\n",
    "\n",
    "\n",
    "\n",
    "*Have questions or comments? Visit the [course discussion forum](https://www.kaggle.com/learn/data-cleaning/discussion) to chat with other learners.*"
   ]
  }
 ],
 "metadata": {
  "kernelspec": {
   "display_name": "Python 3",
   "language": "python",
   "name": "python3"
  },
  "language_info": {
   "codemirror_mode": {
    "name": "ipython",
    "version": 3
   },
   "file_extension": ".py",
   "mimetype": "text/x-python",
   "name": "python",
   "nbconvert_exporter": "python",
   "pygments_lexer": "ipython3",
   "version": "3.7.12"
  },
  "papermill": {
   "default_parameters": {},
   "duration": 10.000636,
   "end_time": "2022-08-28T13:41:12.568921",
   "environment_variables": {},
   "exception": null,
   "input_path": "__notebook__.ipynb",
   "output_path": "__notebook__.ipynb",
   "parameters": {},
   "start_time": "2022-08-28T13:41:02.568285",
   "version": "2.3.4"
  }
 },
 "nbformat": 4,
 "nbformat_minor": 5
}
