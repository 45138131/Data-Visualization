{
 "cells": [
  {
   "cell_type": "markdown",
   "id": "622a040f",
   "metadata": {
    "papermill": {
     "duration": 0.006292,
     "end_time": "2022-08-28T13:32:55.254192",
     "exception": false,
     "start_time": "2022-08-28T13:32:55.247900",
     "status": "completed"
    },
    "tags": []
   },
   "source": [
    "**This notebook is an exercise in the [Data Visualization](https://www.kaggle.com/learn/data-visualization) course.  You can reference the tutorial at [this link](https://www.kaggle.com/alexisbcook/final-project).**\n",
    "\n",
    "---\n"
   ]
  },
  {
   "cell_type": "markdown",
   "id": "aeeef5fa",
   "metadata": {
    "papermill": {
     "duration": 0.003998,
     "end_time": "2022-08-28T13:32:55.262731",
     "exception": false,
     "start_time": "2022-08-28T13:32:55.258733",
     "status": "completed"
    },
    "tags": []
   },
   "source": [
    "Now it's time for you to demonstrate your new skills with a project of your own!\n",
    "\n",
    "In this exercise, you will work with a dataset of your choosing.  Once you've selected a dataset, you'll design and create your own plot to tell interesting stories behind the data!\n",
    "\n",
    "## Setup\n",
    "\n",
    "Run the next cell to import and configure the Python libraries that you need to complete the exercise."
   ]
  },
  {
   "cell_type": "code",
   "execution_count": 1,
   "id": "02b3ba43",
   "metadata": {
    "execution": {
     "iopub.execute_input": "2022-08-28T13:32:55.274248Z",
     "iopub.status.busy": "2022-08-28T13:32:55.273616Z",
     "iopub.status.idle": "2022-08-28T13:32:56.583279Z",
     "shell.execute_reply": "2022-08-28T13:32:56.581774Z"
    },
    "papermill": {
     "duration": 1.320707,
     "end_time": "2022-08-28T13:32:56.587831",
     "exception": false,
     "start_time": "2022-08-28T13:32:55.267124",
     "status": "completed"
    },
    "tags": []
   },
   "outputs": [
    {
     "name": "stdout",
     "output_type": "stream",
     "text": [
      "Setup Complete\n"
     ]
    }
   ],
   "source": [
    "import pandas as pd\n",
    "pd.plotting.register_matplotlib_converters()\n",
    "import matplotlib.pyplot as plt\n",
    "%matplotlib inline\n",
    "import seaborn as sns\n",
    "print(\"Setup Complete\")"
   ]
  },
  {
   "cell_type": "markdown",
   "id": "0aae30fd",
   "metadata": {
    "papermill": {
     "duration": 0.004199,
     "end_time": "2022-08-28T13:32:56.597303",
     "exception": false,
     "start_time": "2022-08-28T13:32:56.593104",
     "status": "completed"
    },
    "tags": []
   },
   "source": [
    "The questions below will give you feedback on your work. Run the following cell to set up the feedback system."
   ]
  },
  {
   "cell_type": "code",
   "execution_count": 2,
   "id": "2d563ed3",
   "metadata": {
    "execution": {
     "iopub.execute_input": "2022-08-28T13:32:56.608473Z",
     "iopub.status.busy": "2022-08-28T13:32:56.608031Z",
     "iopub.status.idle": "2022-08-28T13:32:56.654402Z",
     "shell.execute_reply": "2022-08-28T13:32:56.652857Z"
    },
    "papermill": {
     "duration": 0.055489,
     "end_time": "2022-08-28T13:32:56.657192",
     "exception": false,
     "start_time": "2022-08-28T13:32:56.601703",
     "status": "completed"
    },
    "tags": []
   },
   "outputs": [
    {
     "name": "stdout",
     "output_type": "stream",
     "text": [
      "Setup Complete\n"
     ]
    }
   ],
   "source": [
    "# Set up code checking\n",
    "from learntools.core import binder\n",
    "binder.bind(globals())\n",
    "from learntools.data_viz_to_coder.ex7 import *\n",
    "print(\"Setup Complete\")"
   ]
  },
  {
   "cell_type": "markdown",
   "id": "76a95abc",
   "metadata": {
    "papermill": {
     "duration": 0.004148,
     "end_time": "2022-08-28T13:32:56.665990",
     "exception": false,
     "start_time": "2022-08-28T13:32:56.661842",
     "status": "completed"
    },
    "tags": []
   },
   "source": [
    "## Step 1: Attach a dataset to the notebook\n",
    "\n",
    "Begin by selecting a CSV dataset from [Kaggle Datasets](https://www.kaggle.com/datasets).  If you're unsure how to do this, please revisit the instructions in the previous tutorial.\n",
    "\n",
    "Once you have selected a dataset, click on the **[+ Add data]** option in the top right corner.  This will generate a pop-up window that you can use to search for your chosen dataset.  \n",
    "\n",
    "![ex6_search_dataset](https://i.imgur.com/cIIWPUS.png)\n",
    "\n",
    "Once you have found the dataset, click on the **[Add]** button to attach it to the notebook.  You can check that it was successful by looking at the **Data** dropdown menu to the right of the notebook -- look for an **input** folder containing a subfolder that matches the name of the dataset.\n",
    "\n",
    "<center>\n",
    "<img src=\"https://i.imgur.com/nMYc1Nu.png\" width=30%><br/>\n",
    "</center>\n",
    "\n",
    "You can click on the carat to the left of the name of the dataset to double-check that it contains a CSV file.  For instance, the image below shows that the example dataset contains two CSV files: (1) **dc-wikia-data.csv**, and (2) **marvel-wikia-data.csv**.\n",
    "\n",
    "<center>\n",
    "<img src=\"https://i.imgur.com/B4sJkVA.png\" width=30%><br/>\n",
    "</center>\n",
    "\n",
    "Once you've uploaded a dataset with a CSV file, run the code cell below **without changes** to receive credit for your work!"
   ]
  },
  {
   "cell_type": "code",
   "execution_count": 3,
   "id": "523940a1",
   "metadata": {
    "execution": {
     "iopub.execute_input": "2022-08-28T13:32:56.678519Z",
     "iopub.status.busy": "2022-08-28T13:32:56.677124Z",
     "iopub.status.idle": "2022-08-28T13:32:56.697578Z",
     "shell.execute_reply": "2022-08-28T13:32:56.696399Z"
    },
    "papermill": {
     "duration": 0.028683,
     "end_time": "2022-08-28T13:32:56.699948",
     "exception": false,
     "start_time": "2022-08-28T13:32:56.671265",
     "status": "completed"
    },
    "tags": []
   },
   "outputs": [
    {
     "data": {
      "application/javascript": [
       "parent.postMessage({\"jupyterEvent\": \"custom.exercise_interaction\", \"data\": {\"outcomeType\": 1, \"valueTowardsCompletion\": 0.25, \"interactionType\": 1, \"questionType\": 2, \"questionId\": \"1_AttachData\", \"learnToolsVersion\": \"0.3.4\", \"failureMessage\": \"\", \"exceptionClass\": \"\", \"trace\": \"\"}}, \"*\")"
      ],
      "text/plain": [
       "<IPython.core.display.Javascript object>"
      ]
     },
     "metadata": {},
     "output_type": "display_data"
    },
    {
     "data": {
      "text/markdown": [
       "<span style=\"color:#33cc33\">Correct:</span> \n",
       "\n"
      ],
      "text/plain": [
       "Correct: \n"
      ]
     },
     "metadata": {},
     "output_type": "display_data"
    }
   ],
   "source": [
    "# Check for a dataset with a CSV file\n",
    "step_1.check()"
   ]
  },
  {
   "cell_type": "markdown",
   "id": "b82f8518",
   "metadata": {
    "papermill": {
     "duration": 0.004632,
     "end_time": "2022-08-28T13:32:56.709399",
     "exception": false,
     "start_time": "2022-08-28T13:32:56.704767",
     "status": "completed"
    },
    "tags": []
   },
   "source": [
    "## Step 2: Specify the filepath\n",
    "\n",
    "Now that the dataset is attached to the notebook, you can find its filepath.  To do this, begin by clicking on the CSV file you'd like to use.  This will open the CSV file in a tab below the notebook.  You can find the filepath towards the top of this new tab.  \n",
    "\n",
    "![ex6_filepath](https://i.imgur.com/fgXQV47.png)\n",
    "\n",
    "After you find the filepath corresponding to your dataset, fill it in as the value for `my_filepath` in the code cell below, and run the code cell to check that you've provided a valid filepath.  For instance, in the case of this example dataset, we would set\n",
    "```\n",
    "my_filepath = \"../input/fivethirtyeight-comic-characters-dataset/dc-wikia-data.csv\"\n",
    "```  \n",
    "Note that **you must enclose the filepath in quotation marks**; otherwise, the code will return an error.\n",
    "\n",
    "Once you've entered the filepath, you can close the tab below the notebook by clicking on the **[X]** at the top of the tab."
   ]
  },
  {
   "cell_type": "code",
   "execution_count": 4,
   "id": "59f98137",
   "metadata": {
    "execution": {
     "iopub.execute_input": "2022-08-28T13:32:56.721759Z",
     "iopub.status.busy": "2022-08-28T13:32:56.720313Z",
     "iopub.status.idle": "2022-08-28T13:32:56.731705Z",
     "shell.execute_reply": "2022-08-28T13:32:56.730750Z"
    },
    "papermill": {
     "duration": 0.019981,
     "end_time": "2022-08-28T13:32:56.734117",
     "exception": false,
     "start_time": "2022-08-28T13:32:56.714136",
     "status": "completed"
    },
    "tags": []
   },
   "outputs": [
    {
     "data": {
      "application/javascript": [
       "parent.postMessage({\"jupyterEvent\": \"custom.exercise_interaction\", \"data\": {\"outcomeType\": 1, \"valueTowardsCompletion\": 0.25, \"interactionType\": 1, \"questionType\": 2, \"questionId\": \"2_Filepath\", \"learnToolsVersion\": \"0.3.4\", \"failureMessage\": \"\", \"exceptionClass\": \"\", \"trace\": \"\"}}, \"*\")"
      ],
      "text/plain": [
       "<IPython.core.display.Javascript object>"
      ]
     },
     "metadata": {},
     "output_type": "display_data"
    },
    {
     "data": {
      "text/markdown": [
       "<span style=\"color:#33cc33\">Correct:</span> \n",
       "\n"
      ],
      "text/plain": [
       "Correct: \n"
      ]
     },
     "metadata": {},
     "output_type": "display_data"
    }
   ],
   "source": [
    "# Fill in the line below: Specify the path of the CSV file to read\n",
    "my_filepath = \"../input/student-study-hours/score.csv\"\n",
    "\n",
    "# Check for a valid filepath to a CSV file in a dataset\n",
    "step_2.check()"
   ]
  },
  {
   "cell_type": "markdown",
   "id": "7f9fe955",
   "metadata": {
    "papermill": {
     "duration": 0.004752,
     "end_time": "2022-08-28T13:32:56.743973",
     "exception": false,
     "start_time": "2022-08-28T13:32:56.739221",
     "status": "completed"
    },
    "tags": []
   },
   "source": [
    "## Step 3: Load the data\n",
    "\n",
    "Use the next code cell to load your data file into `my_data`.  Use the filepath that you specified in the previous step."
   ]
  },
  {
   "cell_type": "code",
   "execution_count": 5,
   "id": "6d7f73e1",
   "metadata": {
    "execution": {
     "iopub.execute_input": "2022-08-28T13:32:56.756966Z",
     "iopub.status.busy": "2022-08-28T13:32:56.755517Z",
     "iopub.status.idle": "2022-08-28T13:32:56.777877Z",
     "shell.execute_reply": "2022-08-28T13:32:56.776770Z"
    },
    "papermill": {
     "duration": 0.031317,
     "end_time": "2022-08-28T13:32:56.780235",
     "exception": false,
     "start_time": "2022-08-28T13:32:56.748918",
     "status": "completed"
    },
    "tags": []
   },
   "outputs": [
    {
     "data": {
      "application/javascript": [
       "parent.postMessage({\"jupyterEvent\": \"custom.exercise_interaction\", \"data\": {\"outcomeType\": 1, \"valueTowardsCompletion\": 0.25, \"interactionType\": 1, \"questionType\": 2, \"questionId\": \"3_LoadData\", \"learnToolsVersion\": \"0.3.4\", \"failureMessage\": \"\", \"exceptionClass\": \"\", \"trace\": \"\"}}, \"*\")"
      ],
      "text/plain": [
       "<IPython.core.display.Javascript object>"
      ]
     },
     "metadata": {},
     "output_type": "display_data"
    },
    {
     "data": {
      "text/markdown": [
       "<span style=\"color:#33cc33\">Correct:</span> \n",
       "\n"
      ],
      "text/plain": [
       "Correct: \n"
      ]
     },
     "metadata": {},
     "output_type": "display_data"
    }
   ],
   "source": [
    "# Fill in the line below: Read the file into a variable my_data\n",
    "my_data = pd.read_csv(my_filepath)\n",
    "\n",
    "# Check that a dataset has been uploaded into my_data\n",
    "step_3.check()"
   ]
  },
  {
   "cell_type": "markdown",
   "id": "d5e5b426",
   "metadata": {
    "papermill": {
     "duration": 0.005002,
     "end_time": "2022-08-28T13:32:56.790460",
     "exception": false,
     "start_time": "2022-08-28T13:32:56.785458",
     "status": "completed"
    },
    "tags": []
   },
   "source": [
    "**_After the code cell above is marked correct_**, run the code cell below without changes to view the first five rows of the data."
   ]
  },
  {
   "cell_type": "code",
   "execution_count": 6,
   "id": "c2b78415",
   "metadata": {
    "execution": {
     "iopub.execute_input": "2022-08-28T13:32:56.803611Z",
     "iopub.status.busy": "2022-08-28T13:32:56.802702Z",
     "iopub.status.idle": "2022-08-28T13:32:56.823529Z",
     "shell.execute_reply": "2022-08-28T13:32:56.822238Z"
    },
    "papermill": {
     "duration": 0.030568,
     "end_time": "2022-08-28T13:32:56.826170",
     "exception": false,
     "start_time": "2022-08-28T13:32:56.795602",
     "status": "completed"
    },
    "tags": []
   },
   "outputs": [
    {
     "data": {
      "text/html": [
       "<div>\n",
       "<style scoped>\n",
       "    .dataframe tbody tr th:only-of-type {\n",
       "        vertical-align: middle;\n",
       "    }\n",
       "\n",
       "    .dataframe tbody tr th {\n",
       "        vertical-align: top;\n",
       "    }\n",
       "\n",
       "    .dataframe thead th {\n",
       "        text-align: right;\n",
       "    }\n",
       "</style>\n",
       "<table border=\"1\" class=\"dataframe\">\n",
       "  <thead>\n",
       "    <tr style=\"text-align: right;\">\n",
       "      <th></th>\n",
       "      <th>Hours</th>\n",
       "      <th>Scores</th>\n",
       "    </tr>\n",
       "  </thead>\n",
       "  <tbody>\n",
       "    <tr>\n",
       "      <th>0</th>\n",
       "      <td>2.5</td>\n",
       "      <td>21</td>\n",
       "    </tr>\n",
       "    <tr>\n",
       "      <th>1</th>\n",
       "      <td>5.1</td>\n",
       "      <td>47</td>\n",
       "    </tr>\n",
       "    <tr>\n",
       "      <th>2</th>\n",
       "      <td>3.2</td>\n",
       "      <td>27</td>\n",
       "    </tr>\n",
       "    <tr>\n",
       "      <th>3</th>\n",
       "      <td>8.5</td>\n",
       "      <td>75</td>\n",
       "    </tr>\n",
       "    <tr>\n",
       "      <th>4</th>\n",
       "      <td>3.5</td>\n",
       "      <td>30</td>\n",
       "    </tr>\n",
       "  </tbody>\n",
       "</table>\n",
       "</div>"
      ],
      "text/plain": [
       "   Hours  Scores\n",
       "0    2.5      21\n",
       "1    5.1      47\n",
       "2    3.2      27\n",
       "3    8.5      75\n",
       "4    3.5      30"
      ]
     },
     "execution_count": 6,
     "metadata": {},
     "output_type": "execute_result"
    }
   ],
   "source": [
    "# Print the first five rows of the data\n",
    "my_data.head()"
   ]
  },
  {
   "cell_type": "markdown",
   "id": "14934f39",
   "metadata": {
    "papermill": {
     "duration": 0.005168,
     "end_time": "2022-08-28T13:32:56.836977",
     "exception": false,
     "start_time": "2022-08-28T13:32:56.831809",
     "status": "completed"
    },
    "tags": []
   },
   "source": [
    "## Step 4: Visualize the data\n",
    "\n",
    "Use the next code cell to create a figure that tells a story behind your dataset.  You can use any chart type (_line chart, bar chart, heatmap, etc_) of your choosing!"
   ]
  },
  {
   "cell_type": "code",
   "execution_count": 7,
   "id": "236452d8",
   "metadata": {
    "execution": {
     "iopub.execute_input": "2022-08-28T13:32:56.850359Z",
     "iopub.status.busy": "2022-08-28T13:32:56.849466Z",
     "iopub.status.idle": "2022-08-28T13:32:57.142839Z",
     "shell.execute_reply": "2022-08-28T13:32:57.141500Z"
    },
    "papermill": {
     "duration": 0.30332,
     "end_time": "2022-08-28T13:32:57.145642",
     "exception": false,
     "start_time": "2022-08-28T13:32:56.842322",
     "status": "completed"
    },
    "tags": []
   },
   "outputs": [
    {
     "data": {
      "application/javascript": [
       "parent.postMessage({\"jupyterEvent\": \"custom.exercise_interaction\", \"data\": {\"outcomeType\": 1, \"valueTowardsCompletion\": 0.25, \"interactionType\": 1, \"questionType\": 2, \"questionId\": \"4_CreatePlot\", \"learnToolsVersion\": \"0.3.4\", \"failureMessage\": \"\", \"exceptionClass\": \"\", \"trace\": \"\"}}, \"*\")"
      ],
      "text/plain": [
       "<IPython.core.display.Javascript object>"
      ]
     },
     "metadata": {},
     "output_type": "display_data"
    },
    {
     "data": {
      "text/markdown": [
       "<span style=\"color:#33cc33\">Correct:</span> \n",
       "\n"
      ],
      "text/plain": [
       "Correct: \n"
      ]
     },
     "metadata": {},
     "output_type": "display_data"
    },
    {
     "data": {
      "image/png": "[encoded data removed]",
      "text/plain": [
       "<Figure size 432x288 with 1 Axes>"
      ]
     },
     "metadata": {
      "needs_background": "light"
     },
     "output_type": "display_data"
    }
   ],
   "source": [
    "# Create a plot\n",
    "____ # Your code here\n",
    "#sns.histplot(my_data['Petal Length (cm)'])\n",
    "#sns.kdeplot(data=my_data, x='Hours', hue='Scores', shade=True)\n",
    "sns.histplot(my_data['Hours'])\n",
    "\n",
    "\n",
    "\n",
    "# Check that a figure appears below\n",
    "step_4.check()"
   ]
  },
  {
   "cell_type": "markdown",
   "id": "9e73bf41",
   "metadata": {
    "papermill": {
     "duration": 0.005701,
     "end_time": "2022-08-28T13:32:57.157437",
     "exception": false,
     "start_time": "2022-08-28T13:32:57.151736",
     "status": "completed"
    },
    "tags": []
   },
   "source": [
    "## Keep going\n",
    "\n",
    "Learn how to use your skills after completing the micro-course to create data visualizations in a **[final tutorial](https://www.kaggle.com/alexisbcook/creating-your-own-notebooks)**."
   ]
  },
  {
   "cell_type": "markdown",
   "id": "87c4dfd5",
   "metadata": {
    "papermill": {
     "duration": 0.005802,
     "end_time": "2022-08-28T13:32:57.169176",
     "exception": false,
     "start_time": "2022-08-28T13:32:57.163374",
     "status": "completed"
    },
    "tags": []
   },
   "source": [
    "---\n",
    "\n",
    "\n",
    "\n",
    "\n",
    "*Have questions or comments? Visit the [course discussion forum](https://www.kaggle.com/learn/data-visualization/discussion) to chat with other learners.*"
   ]
  }
 ],
 "metadata": {
  "kernelspec": {
   "display_name": "Python 3",
   "language": "python",
   "name": "python3"
  },
  "language_info": {
   "codemirror_mode": {
    "name": "ipython",
    "version": 3
   },
   "file_extension": ".py",
   "mimetype": "text/x-python",
   "name": "python",
   "nbconvert_exporter": "python",
   "pygments_lexer": "ipython3",
   "version": "3.7.12"
  },
  "papermill": {
   "default_parameters": {},
   "duration": 12.774803,
   "end_time": "2022-08-28T13:32:57.998842",
   "environment_variables": {},
   "exception": null,
   "input_path": "__notebook__.ipynb",
   "output_path": "__notebook__.ipynb",
   "parameters": {},
   "start_time": "2022-08-28T13:32:45.224039",
   "version": "2.3.4"
  }
 },
 "nbformat": 4,
 "nbformat_minor": 5
}
